{
 "cells": [
  {
   "cell_type": "code",
   "execution_count": 27,
   "id": "039b8264",
   "metadata": {},
   "outputs": [],
   "source": [
    "import pandas as pd\n",
    "import torch\n",
    "import torch.nn as nn\n",
    "import torch.optim as optim\n",
    "from sklearn.model_selection import train_test_split\n",
    "import matplotlib.pyplot as plt\n",
    "import seaborn as sns\n"
   ]
  },
  {
   "cell_type": "code",
   "execution_count": 28,
   "id": "3d530339",
   "metadata": {},
   "outputs": [
    {
     "data": {
      "text/plain": [
       "['id',\n",
       " 'listing_url',\n",
       " 'scrape_id',\n",
       " 'last_scraped',\n",
       " 'source',\n",
       " 'name',\n",
       " 'host_id',\n",
       " 'host_url',\n",
       " 'host_since',\n",
       " 'host_response_time',\n",
       " 'host_response_rate',\n",
       " 'host_acceptance_rate',\n",
       " 'host_is_superhost',\n",
       " 'host_neighbourhood',\n",
       " 'host_listings_count',\n",
       " 'host_total_listings_count',\n",
       " 'host_verifications',\n",
       " 'host_has_profile_pic',\n",
       " 'host_identity_verified',\n",
       " 'neighbourhood',\n",
       " 'neighbourhood_cleansed',\n",
       " 'neighbourhood_group_cleansed',\n",
       " 'latitude',\n",
       " 'longitude',\n",
       " 'property_type',\n",
       " 'room_type',\n",
       " 'accommodates',\n",
       " 'bathrooms',\n",
       " 'bathrooms_text',\n",
       " 'bedrooms',\n",
       " 'beds',\n",
       " 'amenities',\n",
       " 'price',\n",
       " 'minimum_nights',\n",
       " 'maximum_nights',\n",
       " 'minimum_minimum_nights',\n",
       " 'maximum_minimum_nights',\n",
       " 'minimum_maximum_nights',\n",
       " 'maximum_maximum_nights',\n",
       " 'minimum_nights_avg_ntm',\n",
       " 'maximum_nights_avg_ntm',\n",
       " 'has_availability',\n",
       " 'availability_30',\n",
       " 'availability_60',\n",
       " 'availability_90',\n",
       " 'availability_365',\n",
       " 'calendar_last_scraped',\n",
       " 'number_of_reviews',\n",
       " 'number_of_reviews_ltm',\n",
       " 'number_of_reviews_l30d',\n",
       " 'review_scores_rating',\n",
       " 'review_scores_accuracy',\n",
       " 'review_scores_cleanliness',\n",
       " 'review_scores_checkin',\n",
       " 'review_scores_communication',\n",
       " 'review_scores_location',\n",
       " 'review_scores_value',\n",
       " 'instant_bookable',\n",
       " 'calculated_host_listings_count',\n",
       " 'calculated_host_listings_count_entire_homes',\n",
       " 'calculated_host_listings_count_private_rooms',\n",
       " 'calculated_host_listings_count_shared_rooms',\n",
       " 'reviews_per_month',\n",
       " 'bedroom_bathroom_interaction',\n",
       " 'bedroom_bathroom_beds_interaction',\n",
       " 'bed_bath_ratio',\n",
       " 'bed_bedrooms_ratio',\n",
       " 'cluster_id',\n",
       " 'centroid_latitude',\n",
       " 'centroid_longitude',\n",
       " 'price_score',\n",
       " 'distance_score',\n",
       " 'total_score',\n",
       " 'booked']"
      ]
     },
     "execution_count": 28,
     "metadata": {},
     "output_type": "execute_result"
    }
   ],
   "source": [
    "df = pd.read_csv(\"final_airbnb_dataset.csv\")\n",
    "\n",
    "df.columns.tolist()\n",
    "\n"
   ]
  },
  {
   "cell_type": "code",
   "execution_count": 29,
   "id": "b57cce1e",
   "metadata": {},
   "outputs": [],
   "source": [
    "features = [\n",
    "    'distance_score', 'price_score', 'number_of_reviews',\n",
    "    'availability_365', 'review_scores_rating',\n",
    "]\n",
    "\n",
    "df_model = df.dropna(subset=features + ['booked'])\n",
    "\n",
    "X = df_model[features]\n",
    "y = df_model['booked'].astype(int)\n",
    "\n",
    "X_train, X_test, y_train, y_test = train_test_split(X, y, test_size=0.2, random_state=42)"
   ]
  },
  {
   "cell_type": "code",
   "execution_count": 30,
   "id": "d71b9bbf",
   "metadata": {},
   "outputs": [],
   "source": [
    "X_train_tensor = torch.tensor(X_train.values, dtype=torch.float32)\n",
    "y_train_tensor = torch.tensor(y_train.values.reshape(-1, 1), dtype=torch.float32)\n",
    "X_test_tensor = torch.tensor(X_test.values, dtype=torch.float32)\n",
    "y_test_tensor = torch.tensor(y_test.values.reshape(-1, 1), dtype=torch.float32)"
   ]
  },
  {
   "cell_type": "code",
   "execution_count": null,
   "id": "a1b29340",
   "metadata": {},
   "outputs": [],
   "source": []
  },
  {
   "cell_type": "code",
   "execution_count": 31,
   "id": "08e79939",
   "metadata": {},
   "outputs": [],
   "source": [
    "class AirbnbModel(nn.Module):\n",
    "    def __init__(self, input_dim):\n",
    "        super(AirbnbModel, self).__init__()\n",
    "        self.net = nn.Sequential(\n",
    "            nn.Linear(input_dim, 64),\n",
    "            nn.ReLU(),\n",
    "            nn.Linear(64, 32),\n",
    "            nn.ReLU(),\n",
    "            nn.Linear(32, 1),\n",
    "            nn.Sigmoid()\n",
    "        )\n",
    "\n",
    "    def forward(self, x):\n",
    "        return self.net(x)\n",
    "\n",
    "# Initialize model, loss, optimizer\n",
    "model = AirbnbModel(X_train.shape[1])\n",
    "criterion = nn.BCELoss()\n",
    "optimizer = optim.Adam(model.parameters(), lr=0.001)\n"
   ]
  },
  {
   "cell_type": "code",
   "execution_count": 43,
   "id": "9be99d66",
   "metadata": {},
   "outputs": [
    {
     "name": "stdout",
     "output_type": "stream",
     "text": [
      "Epoch 10, Loss: 0.1579\n",
      "Epoch 20, Loss: 0.1328\n",
      "Epoch 30, Loss: 0.1284\n",
      "Epoch 40, Loss: 0.1265\n",
      "Epoch 50, Loss: 0.1256\n",
      "Epoch 60, Loss: 0.1247\n",
      "Epoch 70, Loss: 0.1239\n",
      "Epoch 80, Loss: 0.1234\n",
      "Epoch 90, Loss: 0.1228\n",
      "Epoch 100, Loss: 0.1223\n",
      "Epoch 110, Loss: 0.1218\n",
      "Epoch 120, Loss: 0.1213\n",
      "Epoch 130, Loss: 0.1208\n",
      "Epoch 140, Loss: 0.1203\n",
      "Epoch 150, Loss: 0.1198\n",
      "Epoch 160, Loss: 0.1193\n",
      "Epoch 170, Loss: 0.1188\n",
      "Epoch 180, Loss: 0.1183\n",
      "Epoch 190, Loss: 0.1209\n",
      "Epoch 200, Loss: 0.1180\n",
      "Epoch 210, Loss: 0.1210\n",
      "Epoch 220, Loss: 0.1169\n",
      "Epoch 230, Loss: 0.1207\n",
      "Epoch 240, Loss: 0.1165\n",
      "Epoch 250, Loss: 0.1163\n",
      "Epoch 260, Loss: 0.1269\n",
      "Epoch 270, Loss: 0.1263\n",
      "Epoch 280, Loss: 0.1147\n",
      "Epoch 290, Loss: 0.1147\n",
      "Epoch 300, Loss: 0.1506\n",
      "Epoch 310, Loss: 0.1153\n",
      "Epoch 320, Loss: 0.1148\n",
      "Epoch 330, Loss: 0.1143\n",
      "Epoch 340, Loss: 0.1123\n",
      "Epoch 350, Loss: 0.1155\n",
      "Epoch 360, Loss: 0.1120\n",
      "Epoch 370, Loss: 0.1143\n",
      "Epoch 380, Loss: 0.1150\n",
      "Epoch 390, Loss: 0.1101\n",
      "Epoch 400, Loss: 0.1225\n",
      "Epoch 410, Loss: 0.1550\n",
      "Epoch 420, Loss: 0.1702\n",
      "Epoch 430, Loss: 0.1276\n",
      "Epoch 440, Loss: 0.1187\n",
      "Epoch 450, Loss: 0.1155\n",
      "Epoch 460, Loss: 0.1121\n",
      "Epoch 470, Loss: 0.1080\n",
      "Epoch 480, Loss: 0.1072\n",
      "Epoch 490, Loss: 0.1084\n",
      "Epoch 500, Loss: 0.1068\n",
      "Index(['id', 'listing_url', 'scrape_id', 'last_scraped', 'source', 'name',\n",
      "       'host_id', 'host_url', 'host_since', 'host_response_time',\n",
      "       'host_response_rate', 'host_acceptance_rate', 'host_is_superhost',\n",
      "       'host_neighbourhood', 'host_listings_count',\n",
      "       'host_total_listings_count', 'host_verifications',\n",
      "       'host_has_profile_pic', 'host_identity_verified', 'neighbourhood',\n",
      "       'neighbourhood_cleansed', 'neighbourhood_group_cleansed', 'latitude',\n",
      "       'longitude', 'property_type', 'room_type', 'accommodates', 'bathrooms',\n",
      "       'bathrooms_text', 'bedrooms', 'beds', 'amenities', 'price',\n",
      "       'minimum_nights', 'maximum_nights', 'minimum_minimum_nights',\n",
      "       'maximum_minimum_nights', 'minimum_maximum_nights',\n",
      "       'maximum_maximum_nights', 'minimum_nights_avg_ntm',\n",
      "       'maximum_nights_avg_ntm', 'has_availability', 'availability_30',\n",
      "       'availability_60', 'availability_90', 'availability_365',\n",
      "       'calendar_last_scraped', 'number_of_reviews', 'number_of_reviews_ltm',\n",
      "       'number_of_reviews_l30d', 'review_scores_rating',\n",
      "       'review_scores_accuracy', 'review_scores_cleanliness',\n",
      "       'review_scores_checkin', 'review_scores_communication',\n",
      "       'review_scores_location', 'review_scores_value', 'instant_bookable',\n",
      "       'calculated_host_listings_count',\n",
      "       'calculated_host_listings_count_entire_homes',\n",
      "       'calculated_host_listings_count_private_rooms',\n",
      "       'calculated_host_listings_count_shared_rooms', 'reviews_per_month',\n",
      "       'bedroom_bathroom_interaction', 'bedroom_bathroom_beds_interaction',\n",
      "       'bed_bath_ratio', 'bed_bedrooms_ratio', 'cluster_id',\n",
      "       'centroid_latitude', 'centroid_longitude', 'price_score',\n",
      "       'distance_score', 'total_score', 'booked', 'predicted_proba'],\n",
      "      dtype='object')\n",
      "   predicted_proba\n",
      "0         0.009734\n",
      "1         0.463803\n",
      "2         0.000239\n",
      "3         0.000001\n",
      "4         0.851249\n"
     ]
    }
   ],
   "source": [
    "num_epochs = 500\n",
    "for epoch in range(num_epochs):\n",
    "    model.train()\n",
    "    optimizer.zero_grad()\n",
    "    outputs = model(X_train_tensor)\n",
    "    loss = criterion(outputs, y_train_tensor)\n",
    "    loss.backward()\n",
    "    optimizer.step()\n",
    "    if (epoch+1) % 10 == 0:\n",
    "        print(f\"Epoch {epoch+1}, Loss: {loss.item():.4f}\")\n",
    "\n",
    "# Predict probabilities on the full dataset\n",
    "# Make predictions\n",
    "with torch.no_grad():\n",
    "    all_features_tensor = torch.tensor(df_model[features].values, dtype=torch.float32)\n",
    "    probs = model(all_features_tensor).numpy().flatten()\n",
    "\n",
    "# Ensure the shapes match\n",
    "assert len(probs) == len(df_model), \"Shape mismatch: probs doesn't align with df_model\"\n",
    "\n",
    "# Assign predictions\n",
    "df_model = df_model.copy()\n",
    "df_model['predicted_proba'] = probs\n",
    "\n",
    "# Confirm it worked\n",
    "print(df_model.columns)\n",
    "print(df_model[['predicted_proba']].head())\n"
   ]
  },
  {
   "cell_type": "code",
   "execution_count": 33,
   "id": "1ac5bfc9",
   "metadata": {},
   "outputs": [
    {
     "name": "stdout",
     "output_type": "stream",
     "text": [
      "['id', 'listing_url', 'scrape_id', 'last_scraped', 'source', 'name', 'host_id', 'host_url', 'host_since', 'host_response_time', 'host_response_rate', 'host_acceptance_rate', 'host_is_superhost', 'host_neighbourhood', 'host_listings_count', 'host_total_listings_count', 'host_verifications', 'host_has_profile_pic', 'host_identity_verified', 'neighbourhood', 'neighbourhood_cleansed', 'neighbourhood_group_cleansed', 'latitude', 'longitude', 'property_type', 'room_type', 'accommodates', 'bathrooms', 'bathrooms_text', 'bedrooms', 'beds', 'amenities', 'price', 'minimum_nights', 'maximum_nights', 'minimum_minimum_nights', 'maximum_minimum_nights', 'minimum_maximum_nights', 'maximum_maximum_nights', 'minimum_nights_avg_ntm', 'maximum_nights_avg_ntm', 'has_availability', 'availability_30', 'availability_60', 'availability_90', 'availability_365', 'calendar_last_scraped', 'number_of_reviews', 'number_of_reviews_ltm', 'number_of_reviews_l30d', 'review_scores_rating', 'review_scores_accuracy', 'review_scores_cleanliness', 'review_scores_checkin', 'review_scores_communication', 'review_scores_location', 'review_scores_value', 'instant_bookable', 'calculated_host_listings_count', 'calculated_host_listings_count_entire_homes', 'calculated_host_listings_count_private_rooms', 'calculated_host_listings_count_shared_rooms', 'reviews_per_month', 'bedroom_bathroom_interaction', 'bedroom_bathroom_beds_interaction', 'bed_bath_ratio', 'bed_bedrooms_ratio', 'cluster_id', 'centroid_latitude', 'centroid_longitude', 'price_score', 'distance_score', 'total_score', 'booked', 'predicted_proba']\n"
     ]
    }
   ],
   "source": [
    "print(df_model.columns.tolist())"
   ]
  },
  {
   "cell_type": "code",
   "execution_count": 44,
   "id": "e8b9c17f",
   "metadata": {},
   "outputs": [
    {
     "name": "stdout",
     "output_type": "stream",
     "text": [
      "\n",
      "🔗 Top 10 Recommended Airbnbs with URLs:\n",
      "\n",
      "ID: 49713396 | Score: 1.00 | URL: https://www.airbnb.com/rooms/49713396\n",
      "ID: 53346269 | Score: 1.00 | URL: https://www.airbnb.com/rooms/53346269\n",
      "ID: 4349358 | Score: 1.00 | URL: https://www.airbnb.com/rooms/4349358\n",
      "ID: 39627045 | Score: 1.00 | URL: https://www.airbnb.com/rooms/39627045\n",
      "ID: 4951402 | Score: 1.00 | URL: https://www.airbnb.com/rooms/4951402\n",
      "ID: 8663101 | Score: 1.00 | URL: https://www.airbnb.com/rooms/8663101\n",
      "ID: 10887847 | Score: 1.00 | URL: https://www.airbnb.com/rooms/10887847\n",
      "ID: 660036 | Score: 1.00 | URL: https://www.airbnb.com/rooms/660036\n",
      "ID: 13259442 | Score: 1.00 | URL: https://www.airbnb.com/rooms/13259442\n",
      "ID: 46543084 | Score: 1.00 | URL: https://www.airbnb.com/rooms/46543084\n"
     ]
    }
   ],
   "source": [
    "top_10 = df_model.sort_values(by='predicted_proba', ascending=False).head(10)\n",
    "top_10_links = top_10[['id', 'listing_url', 'predicted_proba']]\n",
    "\n",
    "print(\"\\n🔗 Top 10 Recommended Airbnbs with URLs:\\n\")\n",
    "for _, row in top_10_links.iterrows():\n",
    "    print(f\"ID: {row['id']} | Score: {row['predicted_proba']:.2f} | URL: {row['listing_url']}\")\n"
   ]
  },
  {
   "cell_type": "code",
   "execution_count": 45,
   "id": "5320299d",
   "metadata": {},
   "outputs": [
    {
     "data": {
      "image/png": "[encoded data removed]",
      "text/plain": [
       "<Figure size 1200x600 with 1 Axes>"
      ]
     },
     "metadata": {},
     "output_type": "display_data"
    }
   ],
   "source": [
    "plt.figure(figsize=(12, 6))\n",
    "sorted_probs = df_model['predicted_proba'].sort_values(ascending=False).reset_index(drop=True)\n",
    "plt.plot(sorted_probs, marker='o', linestyle='', alpha=0.6)\n",
    "plt.axhline(top_10['predicted_proba'].min(), color='red', linestyle='--', label=\"Top 10 Cutoff\")\n",
    "plt.title('Sorted Predicted Probabilities')\n",
    "plt.xlabel('Listing Order (Most to Least Likely to be Booked)')\n",
    "plt.ylabel('Probability of Booking')\n",
    "plt.legend()\n",
    "plt.grid(True)\n",
    "plt.tight_layout()\n",
    "plt.show()\n"
   ]
  }
 ],
 "metadata": {
  "kernelspec": {
   "display_name": "venv",
   "language": "python",
   "name": "python3"
  },
  "language_info": {
   "codemirror_mode": {
    "name": "ipython",
    "version": 3
   },
   "file_extension": ".py",
   "mimetype": "text/x-python",
   "name": "python",
   "nbconvert_exporter": "python",
   "pygments_lexer": "ipython3",
   "version": "3.12.6"
  }
 },
 "nbformat": 4,
 "nbformat_minor": 5
}

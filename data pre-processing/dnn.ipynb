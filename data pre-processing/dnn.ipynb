{
 "cells": [
  {
   "cell_type": "code",
   "execution_count": 27,
   "id": "039b8264",
   "metadata": {},
   "outputs": [],
   "source": [
    "import pandas as pd\n",
    "import torch\n",
    "import torch.nn as nn\n",
    "import torch.optim as optim\n",
    "from sklearn.model_selection import train_test_split\n",
    "import matplotlib.pyplot as plt\n",
    "import seaborn as sns\n"
   ]
  },
  {
   "cell_type": "code",
   "execution_count": 28,
   "id": "3d530339",
   "metadata": {},
   "outputs": [
    {
     "data": {
      "text/plain": [
       "['id',\n",
       " 'listing_url',\n",
       " 'scrape_id',\n",
       " 'last_scraped',\n",
       " 'source',\n",
       " 'name',\n",
       " 'host_id',\n",
       " 'host_url',\n",
       " 'host_since',\n",
       " 'host_response_time',\n",
       " 'host_response_rate',\n",
       " 'host_acceptance_rate',\n",
       " 'host_is_superhost',\n",
       " 'host_neighbourhood',\n",
       " 'host_listings_count',\n",
       " 'host_total_listings_count',\n",
       " 'host_verifications',\n",
       " 'host_has_profile_pic',\n",
       " 'host_identity_verified',\n",
       " 'neighbourhood',\n",
       " 'neighbourhood_cleansed',\n",
       " 'neighbourhood_group_cleansed',\n",
       " 'latitude',\n",
       " 'longitude',\n",
       " 'property_type',\n",
       " 'room_type',\n",
       " 'accommodates',\n",
       " 'bathrooms',\n",
       " 'bathrooms_text',\n",
       " 'bedrooms',\n",
       " 'beds',\n",
       " 'amenities',\n",
       " 'price',\n",
       " 'minimum_nights',\n",
       " 'maximum_nights',\n",
       " 'minimum_minimum_nights',\n",
       " 'maximum_minimum_nights',\n",
       " 'minimum_maximum_nights',\n",
       " 'maximum_maximum_nights',\n",
       " 'minimum_nights_avg_ntm',\n",
       " 'maximum_nights_avg_ntm',\n",
       " 'has_availability',\n",
       " 'availability_30',\n",
       " 'availability_60',\n",
       " 'availability_90',\n",
       " 'availability_365',\n",
       " 'calendar_last_scraped',\n",
       " 'number_of_reviews',\n",
       " 'number_of_reviews_ltm',\n",
       " 'number_of_reviews_l30d',\n",
       " 'review_scores_rating',\n",
       " 'review_scores_accuracy',\n",
       " 'review_scores_cleanliness',\n",
       " 'review_scores_checkin',\n",
       " 'review_scores_communication',\n",
       " 'review_scores_location',\n",
       " 'review_scores_value',\n",
       " 'instant_bookable',\n",
       " 'calculated_host_listings_count',\n",
       " 'calculated_host_listings_count_entire_homes',\n",
       " 'calculated_host_listings_count_private_rooms',\n",
       " 'calculated_host_listings_count_shared_rooms',\n",
       " 'reviews_per_month',\n",
       " 'bedroom_bathroom_interaction',\n",
       " 'bedroom_bathroom_beds_interaction',\n",
       " 'bed_bath_ratio',\n",
       " 'bed_bedrooms_ratio',\n",
       " 'cluster_id',\n",
       " 'centroid_latitude',\n",
       " 'centroid_longitude',\n",
       " 'price_score',\n",
       " 'distance_score',\n",
       " 'total_score',\n",
       " 'booked']"
      ]
     },
     "execution_count": 28,
     "metadata": {},
     "output_type": "execute_result"
    }
   ],
   "source": [
    "df = pd.read_csv(\"final_airbnb_dataset.csv\")\n",
    "\n",
    "df.columns.tolist()\n",
    "\n"
   ]
  },
  {
   "cell_type": "code",
   "execution_count": 29,
   "id": "b57cce1e",
   "metadata": {},
   "outputs": [],
   "source": [
    "features = [\n",
    "    'distance_score', 'price_score', 'number_of_reviews',\n",
    "    'availability_365', 'review_scores_rating',\n",
    "]\n",
    "\n",
    "df_model = df.dropna(subset=features + ['booked'])\n",
    "\n",
    "X = df_model[features]\n",
    "y = df_model['booked'].astype(int)\n",
    "\n",
    "X_train, X_test, y_train, y_test = train_test_split(X, y, test_size=0.2, random_state=42)"
   ]
  },
  {
   "cell_type": "code",
   "execution_count": 30,
   "id": "d71b9bbf",
   "metadata": {},
   "outputs": [],
   "source": [
    "X_train_tensor = torch.tensor(X_train.values, dtype=torch.float32)\n",
    "y_train_tensor = torch.tensor(y_train.values.reshape(-1, 1), dtype=torch.float32)\n",
    "X_test_tensor = torch.tensor(X_test.values, dtype=torch.float32)\n",
    "y_test_tensor = torch.tensor(y_test.values.reshape(-1, 1), dtype=torch.float32)"
   ]
  },
  {
   "cell_type": "code",
   "execution_count": null,
   "id": "a1b29340",
   "metadata": {},
   "outputs": [],
   "source": []
  },
  {
   "cell_type": "code",
   "execution_count": 31,
   "id": "08e79939",
   "metadata": {},
   "outputs": [],
   "source": [
    "class AirbnbModel(nn.Module):\n",
    "    def __init__(self, input_dim):\n",
    "        super(AirbnbModel, self).__init__()\n",
    "        self.net = nn.Sequential(\n",
    "            nn.Linear(input_dim, 64),\n",
    "            nn.ReLU(),\n",
    "            nn.Linear(64, 32),\n",
    "            nn.ReLU(),\n",
    "            nn.Linear(32, 1),\n",
    "            nn.Sigmoid()\n",
    "        )\n",
    "\n",
    "    def forward(self, x):\n",
    "        return self.net(x)\n",
    "\n",
    "# Initialize model, loss, optimizer\n",
    "model = AirbnbModel(X_train.shape[1])\n",
    "criterion = nn.BCELoss()\n",
    "optimizer = optim.Adam(model.parameters(), lr=0.001)\n"
   ]
  },
  {
   "cell_type": "code",
   "execution_count": 32,
   "id": "9be99d66",
   "metadata": {},
   "outputs": [
    {
     "name": "stdout",
     "output_type": "stream",
     "text": [
      "Epoch 10, Loss: 0.6588\n",
      "Epoch 20, Loss: 0.6164\n",
      "Epoch 30, Loss: 0.5743\n",
      "Epoch 40, Loss: 0.5438\n",
      "Epoch 50, Loss: 0.5240\n",
      "Epoch 60, Loss: 0.5091\n",
      "Epoch 70, Loss: 0.4993\n",
      "Epoch 80, Loss: 0.4948\n",
      "Epoch 90, Loss: 0.4918\n",
      "Epoch 100, Loss: 0.4905\n",
      "Index(['id', 'listing_url', 'scrape_id', 'last_scraped', 'source', 'name',\n",
      "       'host_id', 'host_url', 'host_since', 'host_response_time',\n",
      "       'host_response_rate', 'host_acceptance_rate', 'host_is_superhost',\n",
      "       'host_neighbourhood', 'host_listings_count',\n",
      "       'host_total_listings_count', 'host_verifications',\n",
      "       'host_has_profile_pic', 'host_identity_verified', 'neighbourhood',\n",
      "       'neighbourhood_cleansed', 'neighbourhood_group_cleansed', 'latitude',\n",
      "       'longitude', 'property_type', 'room_type', 'accommodates', 'bathrooms',\n",
      "       'bathrooms_text', 'bedrooms', 'beds', 'amenities', 'price',\n",
      "       'minimum_nights', 'maximum_nights', 'minimum_minimum_nights',\n",
      "       'maximum_minimum_nights', 'minimum_maximum_nights',\n",
      "       'maximum_maximum_nights', 'minimum_nights_avg_ntm',\n",
      "       'maximum_nights_avg_ntm', 'has_availability', 'availability_30',\n",
      "       'availability_60', 'availability_90', 'availability_365',\n",
      "       'calendar_last_scraped', 'number_of_reviews', 'number_of_reviews_ltm',\n",
      "       'number_of_reviews_l30d', 'review_scores_rating',\n",
      "       'review_scores_accuracy', 'review_scores_cleanliness',\n",
      "       'review_scores_checkin', 'review_scores_communication',\n",
      "       'review_scores_location', 'review_scores_value', 'instant_bookable',\n",
      "       'calculated_host_listings_count',\n",
      "       'calculated_host_listings_count_entire_homes',\n",
      "       'calculated_host_listings_count_private_rooms',\n",
      "       'calculated_host_listings_count_shared_rooms', 'reviews_per_month',\n",
      "       'bedroom_bathroom_interaction', 'bedroom_bathroom_beds_interaction',\n",
      "       'bed_bath_ratio', 'bed_bedrooms_ratio', 'cluster_id',\n",
      "       'centroid_latitude', 'centroid_longitude', 'price_score',\n",
      "       'distance_score', 'total_score', 'booked', 'predicted_proba'],\n",
      "      dtype='object')\n",
      "   predicted_proba\n",
      "0         0.228383\n",
      "1         0.262470\n",
      "2         0.095536\n",
      "3         0.287709\n",
      "4         0.229274\n"
     ]
    }
   ],
   "source": [
    "num_epochs = 100\n",
    "for epoch in range(num_epochs):\n",
    "    model.train()\n",
    "    optimizer.zero_grad()\n",
    "    outputs = model(X_train_tensor)\n",
    "    loss = criterion(outputs, y_train_tensor)\n",
    "    loss.backward()\n",
    "    optimizer.step()\n",
    "    if (epoch+1) % 10 == 0:\n",
    "        print(f\"Epoch {epoch+1}, Loss: {loss.item():.4f}\")\n",
    "\n",
    "# Predict probabilities on the full dataset\n",
    "# Make predictions\n",
    "with torch.no_grad():\n",
    "    all_features_tensor = torch.tensor(df_model[features].values, dtype=torch.float32)\n",
    "    probs = model(all_features_tensor).numpy().flatten()\n",
    "\n",
    "# Ensure the shapes match\n",
    "assert len(probs) == len(df_model), \"Shape mismatch: probs doesn't align with df_model\"\n",
    "\n",
    "# Assign predictions\n",
    "df_model = df_model.copy()\n",
    "df_model['predicted_proba'] = probs\n",
    "\n",
    "# Confirm it worked\n",
    "print(df_model.columns)\n",
    "print(df_model[['predicted_proba']].head())\n"
   ]
  },
  {
   "cell_type": "code",
   "execution_count": 33,
   "id": "1ac5bfc9",
   "metadata": {},
   "outputs": [
    {
     "name": "stdout",
     "output_type": "stream",
     "text": [
      "['id', 'listing_url', 'scrape_id', 'last_scraped', 'source', 'name', 'host_id', 'host_url', 'host_since', 'host_response_time', 'host_response_rate', 'host_acceptance_rate', 'host_is_superhost', 'host_neighbourhood', 'host_listings_count', 'host_total_listings_count', 'host_verifications', 'host_has_profile_pic', 'host_identity_verified', 'neighbourhood', 'neighbourhood_cleansed', 'neighbourhood_group_cleansed', 'latitude', 'longitude', 'property_type', 'room_type', 'accommodates', 'bathrooms', 'bathrooms_text', 'bedrooms', 'beds', 'amenities', 'price', 'minimum_nights', 'maximum_nights', 'minimum_minimum_nights', 'maximum_minimum_nights', 'minimum_maximum_nights', 'maximum_maximum_nights', 'minimum_nights_avg_ntm', 'maximum_nights_avg_ntm', 'has_availability', 'availability_30', 'availability_60', 'availability_90', 'availability_365', 'calendar_last_scraped', 'number_of_reviews', 'number_of_reviews_ltm', 'number_of_reviews_l30d', 'review_scores_rating', 'review_scores_accuracy', 'review_scores_cleanliness', 'review_scores_checkin', 'review_scores_communication', 'review_scores_location', 'review_scores_value', 'instant_bookable', 'calculated_host_listings_count', 'calculated_host_listings_count_entire_homes', 'calculated_host_listings_count_private_rooms', 'calculated_host_listings_count_shared_rooms', 'reviews_per_month', 'bedroom_bathroom_interaction', 'bedroom_bathroom_beds_interaction', 'bed_bath_ratio', 'bed_bedrooms_ratio', 'cluster_id', 'centroid_latitude', 'centroid_longitude', 'price_score', 'distance_score', 'total_score', 'booked', 'predicted_proba']\n"
     ]
    }
   ],
   "source": [
    "print(df_model.columns.tolist())"
   ]
  },
  {
   "cell_type": "code",
   "execution_count": 34,
   "id": "e8b9c17f",
   "metadata": {},
   "outputs": [
    {
     "name": "stdout",
     "output_type": "stream",
     "text": [
      "\n",
      "🔗 Top 10 Recommended Airbnbs with URLs:\n",
      "\n",
      "ID: 43388308 | Score: 0.47 | URL: https://www.airbnb.com/rooms/43388308\n",
      "ID: 1164402494958427969 | Score: 0.47 | URL: https://www.airbnb.com/rooms/1164402494958427969\n",
      "ID: 42761887 | Score: 0.47 | URL: https://www.airbnb.com/rooms/42761887\n",
      "ID: 942840241210009215 | Score: 0.47 | URL: https://www.airbnb.com/rooms/942840241210009215\n",
      "ID: 1089725892764328452 | Score: 0.46 | URL: https://www.airbnb.com/rooms/1089725892764328452\n",
      "ID: 608065350562145555 | Score: 0.46 | URL: https://www.airbnb.com/rooms/608065350562145555\n",
      "ID: 858697692672545141 | Score: 0.46 | URL: https://www.airbnb.com/rooms/858697692672545141\n",
      "ID: 979806126336543822 | Score: 0.46 | URL: https://www.airbnb.com/rooms/979806126336543822\n",
      "ID: 1137593997555636834 | Score: 0.46 | URL: https://www.airbnb.com/rooms/1137593997555636834\n",
      "ID: 987725019122308477 | Score: 0.46 | URL: https://www.airbnb.com/rooms/987725019122308477\n"
     ]
    }
   ],
   "source": [
    "top_10 = df_model.sort_values(by='predicted_proba', ascending=False).head(10)\n",
    "top_10_links = top_10[['id', 'listing_url', 'predicted_proba']]\n",
    "\n",
    "print(\"\\n🔗 Top 10 Recommended Airbnbs with URLs:\\n\")\n",
    "for _, row in top_10_links.iterrows():\n",
    "    print(f\"ID: {row['id']} | Score: {row['predicted_proba']:.2f} | URL: {row['listing_url']}\")\n"
   ]
  },
  {
   "cell_type": "code",
   "execution_count": null,
   "id": "0b5ff446",
   "metadata": {},
   "outputs": [],
   "source": []
  }
 ],
 "metadata": {
  "kernelspec": {
   "display_name": "venv",
   "language": "python",
   "name": "python3"
  },
  "language_info": {
   "codemirror_mode": {
    "name": "ipython",
    "version": 3
   },
   "file_extension": ".py",
   "mimetype": "text/x-python",
   "name": "python",
   "nbconvert_exporter": "python",
   "pygments_lexer": "ipython3",
   "version": "3.12.6"
  }
 },
 "nbformat": 4,
 "nbformat_minor": 5
}

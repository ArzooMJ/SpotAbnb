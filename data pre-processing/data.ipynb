{
 "cells": [
  {
   "cell_type": "code",
   "execution_count": 30,
   "metadata": {},
   "outputs": [],
   "source": [
    "# imports\n",
    "\n",
    "import pandas as pd\n",
    "import numpy as np\n",
    "import matplotlib.pyplot as plt\n",
    "import seaborn as sns\n"
   ]
  },
  {
   "cell_type": "code",
   "execution_count": 31,
   "metadata": {},
   "outputs": [
    {
     "name": "stdout",
     "output_type": "stream",
     "text": [
      "     Age  Gender spotify_usage_period  \\\n",
      "0  20-35  Female    More than 2 years   \n",
      "1  12-20    Male    More than 2 years   \n",
      "2  35-60  Others   6 months to 1 year   \n",
      "3  20-35  Female    1 year to 2 years   \n",
      "4  20-35   emale    1 year to 2 years   \n",
      "\n",
      "                         spotify_listening_device spotify_subscription_plan  \\\n",
      "0              Smart speakers or voice assistants       Free (ad-supported)   \n",
      "1                              Computer or laptop       Free (ad-supported)   \n",
      "2              Smart speakers or voice assistants       Free (ad-supported)   \n",
      "3  Smartphone, Smart speakers or voice assistants       Free (ad-supported)   \n",
      "4                                      Smartphone       Free (ad-supported)   \n",
      "\n",
      "  premium_sub_willingness          preffered_premium_plan  \\\n",
      "0                     Yes        Family Plan-Rs 179/month   \n",
      "1                     Yes  Individual Plan- Rs 119/ month   \n",
      "2                     Yes        Student Plan-Rs 59/month   \n",
      "3                      No                             NaN   \n",
      "4                      No                             NaN   \n",
      "\n",
      "  preferred_listening_content fav_music_genre music_time_slot  \\\n",
      "0                     Podcast          Melody           Night   \n",
      "1                     Podcast             Rap       Afternoon   \n",
      "2                     Podcast             Pop           Night   \n",
      "3                       Music          Melody           Night   \n",
      "4                       Music          Melody           Night   \n",
      "\n",
      "                              music_Influencial_mood  \\\n",
      "0                              Sadness or melancholy   \n",
      "1                       Social gatherings or parties   \n",
      "2                       Relaxation and stress relief   \n",
      "3  Relaxation and stress relief, Social gathering...   \n",
      "4                       Relaxation and stress relief   \n",
      "\n",
      "                           music_lis_frequency           music_expl_method  \\\n",
      "0                                 leisure time                   Playlists   \n",
      "1                              Workout session                   Playlists   \n",
      "2                 Study Hours, While Traveling                   Playlists   \n",
      "3  Office hours, Workout session, leisure time  recommendations, Playlists   \n",
      "4                                 leisure time  recommendations, Playlists   \n",
      "\n",
      "   music_recc_rating     pod_lis_frequency         fav_pod_genre  \\\n",
      "0                  3                 Daily                Comedy   \n",
      "1                  2  Several times a week                Comedy   \n",
      "2                  4           Once a week                Sports   \n",
      "3                  4                 Never                   NaN   \n",
      "4                  4                Rarely  Lifestyle and Health   \n",
      "\n",
      "  preffered_pod_format     pod_host_preference preffered_pod_duration  \\\n",
      "0            Interview                    Both                   Both   \n",
      "1            Interview                    Both                    NaN   \n",
      "2            Interview                     NaN                   Both   \n",
      "3                  NaN                     NaN                    NaN   \n",
      "4        Story telling  Well known individuals                   Both   \n",
      "\n",
      "  pod_variety_satisfaction  \n",
      "0                       Ok  \n",
      "1                Satisfied  \n",
      "2                Satisfied  \n",
      "3                       Ok  \n",
      "4                       Ok  \n"
     ]
    }
   ],
   "source": [
    "# Spotify user dataset: \n",
    "spotify_user_data = pd.read_csv('Spotify_data.csv', header=0)\n",
    "\n",
    "# First 5 rows\n",
    "print(spotify_user_data.head())\n",
    "\n",
    "# Perform feature reduction here if needed "
   ]
  },
  {
   "cell_type": "code",
   "execution_count": 32,
   "metadata": {},
   "outputs": [],
   "source": [
    "# Airbnb dataset\n"
   ]
  },
  {
   "cell_type": "code",
   "execution_count": 33,
   "metadata": {},
   "outputs": [],
   "source": [
    "# Ticketmaster Discovery API \n",
    "    # https://developer.ticketmaster.com/products-and-docs/apis/discovery-api/v2/\n",
    "    # https://developer.ticketmaster.com/products-and-docs/apis/discovery-api/v2/venues/get-venues\n",
    "    # https://developer.ticketmaster.com/products-and-docs/apis/discovery-api/v2/events/get-events\n",
    "    # https://developer.ticketmaster.com/products-and-docs/apis/discovery-api/v2/events/get-events-by-id\n",
    "    # https://developer.ticketmaster.com/products-and-docs/apis/discovery-api/v2/events/get-events-by-classification\n",
    "    # https://developer.ticketmaster.com/products-and-docs/apis/discovery-api/v2/events/get-events-by-attraction\n",
    "    # https://developer.ticketmaster.com/products-and-docs/apis/discovery-api/v2/events/get-events-by-venue\n",
    "    # https://developer.ticketmaster.com/products-and-docs/apis/discovery-api/v2/events/get-events-by-source\n",
    "    # https://developer.ticketmaster.com/products-and-docs/apis/discovery-api/v2/events/get-events-by-market\n",
    "    # https://developer.ticketmaster.com/products-and-docs/apis/discovery-api/v2/events/get-events-by-promoter\n",
    "    # https://developer.ticketmaster.com/products-and-docs/apis/discovery-api/v2/events/get-events-by-publisher\n",
    "    # https://developer.ticketmaster.com/products-and-docs/apis/discovery-api/v2/events/get-events-by-attraction\n",
    "    # https://developer.ticketmaster.com/api-explorer/v2/\n",
    "\n",
    "# Ticketmaster Discovery API - Python SDK\n",
    "# Consumer key: 3fw2o6oLbQrHGokCdGJmxUGxHlgCYhUD\n",
    "\n",
    "# Example use cases\n",
    "# Discovery API\tSearching events by keyword in a certain location (lat/long).\n",
    "# Discovery API\tGetting events for a particular artist OR venue in a specific country/city/zip code/DMA/etc.\n",
    "\n",
    "# All API calls follow this format\n",
    "    # https://app.ticketmaster.com/{package}/{version}/{resource}.json?apikey=**{API key}\n",
    "        # package = discovery\n",
    "        # version = v1, v2, v3, etc"
   ]
  },
  {
   "cell_type": "code",
   "execution_count": 34,
   "metadata": {},
   "outputs": [],
   "source": [
    "import requests\n",
    "import os\n",
    "# %pip install dotenv\n",
    "from dotenv import load_dotenv\n",
    "\n",
    "# Load environment variables from .env file\n",
    "load_dotenv()\n",
    "\n",
    "# Set the API key\n",
    "api_key = os.getenv('CONSUMER_KEY')\n"
   ]
  },
  {
   "cell_type": "code",
   "execution_count": 47,
   "metadata": {},
   "outputs": [],
   "source": [
    "class Ticketmaster():\n",
    "    def __init__(self, api_key):\n",
    "        self.api_key = api_key\n",
    "        self.base_url = \"https://app.ticketmaster.com/\"\n",
    "    \n",
    "    def get_events(self, genre, size=1):\n",
    "        # https://developer.ticketmaster.com/products-and-docs/apis/discovery-api/v2/#search-events-v2\n",
    "        url = self.base_url + \"discovery/v2/events.json?size={}&classificationName=music&keyword={}&apikey={}\".format(size, genre, self.api_key)\n",
    "        response = requests.get(url)\n",
    "        return response.json()\n",
    "    \n",
    "    def get_venues(self, size=1):\n",
    "        # https://developer.ticketmaster.com/products-and-docs/apis/discovery-api/v2/#search-venues-v2\n",
    "        url = self.base_url + \"discovery/v2/venues.json?size={}&apikey={}\".format(size, self.api_key)\n",
    "        response = requests.get(url)\n",
    "        return response.json()\n",
    "    \n",
    "    # Search for events sourced by Universe in the United States with keyword “devjam” https://app.ticketmaster.com/discovery/v2/events.json?keyword=devjam&source=universe&countryCode=US&apikey=3fw2o6oLbQrHGokCdGJmxUGxHlgCYhUD\n",
    "\n",
    "    # Search for music events in the Los Angeles area https://app.ticketmaster.com/discovery/v2/events.json?classificationName=music&dmaId=324&apikey=3fw2o6oLbQrHGokCdGJmxUGxHlgCYhUD\n",
    "\n",
    "    # Get a list of all events for Adele in Canada https://app.ticketmaster.com/discovery/v2/events.json?attractionId=K8vZ917Gku7&countryCode=CA&apikey=3fw2o6oLbQrHGokCdGJmxUGxHlgCYhUD\n",
    "    \n",
    "# Initialize the Ticketmaster class\n",
    "tm = Ticketmaster(api_key)\n",
    "\n",
    "# tm.get_events()\n",
    "\n",
    "# 'location': {'longitude': '-121.50023100', 'latitude': '38.58037200'},"
   ]
  },
  {
   "cell_type": "code",
   "execution_count": 36,
   "metadata": {},
   "outputs": [
    {
     "name": "stdout",
     "output_type": "stream",
     "text": [
      "Age                                                         20-35\n",
      "Gender                                                     Female\n",
      "spotify_usage_period                            More than 2 years\n",
      "spotify_listening_device       Smart speakers or voice assistants\n",
      "spotify_subscription_plan                     Free (ad-supported)\n",
      "premium_sub_willingness                                       Yes\n",
      "preffered_premium_plan                   Family Plan-Rs 179/month\n",
      "preferred_listening_content                               Podcast\n",
      "fav_music_genre                                            Melody\n",
      "music_time_slot                                             Night\n",
      "music_Influencial_mood                      Sadness or melancholy\n",
      "music_lis_frequency                                  leisure time\n",
      "music_expl_method                                       Playlists\n",
      "music_recc_rating                                               3\n",
      "pod_lis_frequency                                           Daily\n",
      "fav_pod_genre                                              Comedy\n",
      "preffered_pod_format                                    Interview\n",
      "pod_host_preference                                          Both\n",
      "preffered_pod_duration                                       Both\n",
      "pod_variety_satisfaction                                       Ok\n",
      "Name: 0, dtype: object\n"
     ]
    }
   ],
   "source": [
    "# Grab a single spotify:\n",
    "user = spotify_user_data.iloc[0]\n",
    "print(user)"
   ]
  },
  {
   "cell_type": "code",
   "execution_count": 37,
   "metadata": {},
   "outputs": [
    {
     "name": "stdout",
     "output_type": "stream",
     "text": [
      "Melody\n"
     ]
    }
   ],
   "source": [
    "# Grab their fav_music_genre\n",
    "fav_music_genre = user['fav_music_genre']\n",
    "print(fav_music_genre)"
   ]
  },
  {
   "cell_type": "code",
   "execution_count": 68,
   "metadata": {},
   "outputs": [
    {
     "name": "stdout",
     "output_type": "stream",
     "text": [
      "{'longitude': '-87.62706', 'latitude': '41.853988'}\n"
     ]
    }
   ],
   "source": [
    "# Get event listings based on the user's fav_music_genre\n",
    "\n",
    "events = tm.get_events(size=1, genre=fav_music_genre)\n",
    "print(events['_embedded']['events'][0]['_embedded']['venues'][0]['location']) \n",
    "\n",
    "# genre: id:KnvZfZ7vAvl', subGenre: id:KZazBEonSMnZfZ7vk1I, name: 'Other'"
   ]
  },
  {
   "cell_type": "code",
   "execution_count": null,
   "metadata": {},
   "outputs": [],
   "source": []
  }
 ],
 "metadata": {
  "kernelspec": {
   "display_name": "Python 3",
   "language": "python",
   "name": "python3"
  },
  "language_info": {
   "codemirror_mode": {
    "name": "ipython",
    "version": 3
   },
   "file_extension": ".py",
   "mimetype": "text/x-python",
   "name": "python",
   "nbconvert_exporter": "python",
   "pygments_lexer": "ipython3",
   "version": "3.12.7"
  }
 },
 "nbformat": 4,
 "nbformat_minor": 2
}

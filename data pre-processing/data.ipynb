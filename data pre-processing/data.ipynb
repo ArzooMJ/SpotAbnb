{
 "cells": [
  {
   "cell_type": "code",
   "execution_count": 19,
   "metadata": {},
   "outputs": [],
   "source": [
    "# imports\n",
    "\n",
    "import pandas as pd\n",
    "import numpy as np\n",
    "import matplotlib.pyplot as plt\n",
    "import seaborn as sns\n"
   ]
  },
  {
   "cell_type": "code",
   "execution_count": 20,
   "metadata": {},
   "outputs": [
    {
     "name": "stdout",
     "output_type": "stream",
     "text": [
      "     Age  Gender spotify_usage_period  \\\n",
      "0  20-35  Female    More than 2 years   \n",
      "1  12-20    Male    More than 2 years   \n",
      "2  35-60  Others   6 months to 1 year   \n",
      "3  20-35  Female    1 year to 2 years   \n",
      "4  20-35   emale    1 year to 2 years   \n",
      "\n",
      "                         spotify_listening_device spotify_subscription_plan  \\\n",
      "0              Smart speakers or voice assistants       Free (ad-supported)   \n",
      "1                              Computer or laptop       Free (ad-supported)   \n",
      "2              Smart speakers or voice assistants       Free (ad-supported)   \n",
      "3  Smartphone, Smart speakers or voice assistants       Free (ad-supported)   \n",
      "4                                      Smartphone       Free (ad-supported)   \n",
      "\n",
      "  premium_sub_willingness          preffered_premium_plan  \\\n",
      "0                     Yes        Family Plan-Rs 179/month   \n",
      "1                     Yes  Individual Plan- Rs 119/ month   \n",
      "2                     Yes        Student Plan-Rs 59/month   \n",
      "3                      No                             NaN   \n",
      "4                      No                             NaN   \n",
      "\n",
      "  preferred_listening_content fav_music_genre music_time_slot  \\\n",
      "0                     Podcast          Melody           Night   \n",
      "1                     Podcast             Rap       Afternoon   \n",
      "2                     Podcast             Pop           Night   \n",
      "3                       Music          Melody           Night   \n",
      "4                       Music          Melody           Night   \n",
      "\n",
      "                              music_Influencial_mood  \\\n",
      "0                              Sadness or melancholy   \n",
      "1                       Social gatherings or parties   \n",
      "2                       Relaxation and stress relief   \n",
      "3  Relaxation and stress relief, Social gathering...   \n",
      "4                       Relaxation and stress relief   \n",
      "\n",
      "                           music_lis_frequency           music_expl_method  \\\n",
      "0                                 leisure time                   Playlists   \n",
      "1                              Workout session                   Playlists   \n",
      "2                 Study Hours, While Traveling                   Playlists   \n",
      "3  Office hours, Workout session, leisure time  recommendations, Playlists   \n",
      "4                                 leisure time  recommendations, Playlists   \n",
      "\n",
      "   music_recc_rating     pod_lis_frequency         fav_pod_genre  \\\n",
      "0                  3                 Daily                Comedy   \n",
      "1                  2  Several times a week                Comedy   \n",
      "2                  4           Once a week                Sports   \n",
      "3                  4                 Never                   NaN   \n",
      "4                  4                Rarely  Lifestyle and Health   \n",
      "\n",
      "  preffered_pod_format     pod_host_preference preffered_pod_duration  \\\n",
      "0            Interview                    Both                   Both   \n",
      "1            Interview                    Both                    NaN   \n",
      "2            Interview                     NaN                   Both   \n",
      "3                  NaN                     NaN                    NaN   \n",
      "4        Story telling  Well known individuals                   Both   \n",
      "\n",
      "  pod_variety_satisfaction  \n",
      "0                       Ok  \n",
      "1                Satisfied  \n",
      "2                Satisfied  \n",
      "3                       Ok  \n",
      "4                       Ok  \n"
     ]
    }
   ],
   "source": [
    "# Spotify user dataset: \n",
    "spotify_user_data = pd.read_csv('Spotify_data.csv', header=0)\n",
    "\n",
    "# First 5 rows\n",
    "print(spotify_user_data.head())\n",
    "\n",
    "# Perform feature reduction here if needed "
   ]
  },
  {
   "cell_type": "code",
   "execution_count": 21,
   "metadata": {},
   "outputs": [],
   "source": [
    "# Airbnb dataset\n"
   ]
  },
  {
   "cell_type": "code",
   "execution_count": 22,
   "metadata": {},
   "outputs": [],
   "source": [
    "# Ticketmaster Discovery API \n",
    "    # https://developer.ticketmaster.com/products-and-docs/apis/discovery-api/v2/\n",
    "    # https://developer.ticketmaster.com/products-and-docs/apis/discovery-api/v2/venues/get-venues\n",
    "    # https://developer.ticketmaster.com/products-and-docs/apis/discovery-api/v2/events/get-events\n",
    "    # https://developer.ticketmaster.com/products-and-docs/apis/discovery-api/v2/events/get-events-by-id\n",
    "    # https://developer.ticketmaster.com/products-and-docs/apis/discovery-api/v2/events/get-events-by-classification\n",
    "    # https://developer.ticketmaster.com/products-and-docs/apis/discovery-api/v2/events/get-events-by-attraction\n",
    "    # https://developer.ticketmaster.com/products-and-docs/apis/discovery-api/v2/events/get-events-by-venue\n",
    "    # https://developer.ticketmaster.com/products-and-docs/apis/discovery-api/v2/events/get-events-by-source\n",
    "    # https://developer.ticketmaster.com/products-and-docs/apis/discovery-api/v2/events/get-events-by-market\n",
    "    # https://developer.ticketmaster.com/products-and-docs/apis/discovery-api/v2/events/get-events-by-promoter\n",
    "    # https://developer.ticketmaster.com/products-and-docs/apis/discovery-api/v2/events/get-events-by-publisher\n",
    "    # https://developer.ticketmaster.com/products-and-docs/apis/discovery-api/v2/events/get-events-by-attraction\n",
    "    # https://developer.ticketmaster.com/api-explorer/v2/\n",
    "\n",
    "# Ticketmaster Discovery API - Python SDK\n",
    "# Consumer key: 3fw2o6oLbQrHGokCdGJmxUGxHlgCYhUD\n",
    "\n",
    "# Example use cases\n",
    "# Discovery API\tSearching events by keyword in a certain location (lat/long).\n",
    "# Discovery API\tGetting events for a particular artist OR venue in a specific country/city/zip code/DMA/etc.\n",
    "\n",
    "# All API calls follow this format\n",
    "    # https://app.ticketmaster.com/{package}/{version}/{resource}.json?apikey=**{API key}\n",
    "        # package = discovery\n",
    "        # version = v1, v2, v3, etc"
   ]
  },
  {
   "cell_type": "code",
   "execution_count": 23,
   "metadata": {},
   "outputs": [],
   "source": [
    "import requests\n",
    "import os\n",
    "# %pip install dotenv\n",
    "from dotenv import load_dotenv\n",
    "\n",
    "# Load environment variables from .env file\n",
    "load_dotenv()\n",
    "\n",
    "# Set according API Keys:\n",
    "discovery_key = os.getenv('DISCOVERY_KEY')\n",
    "gmaps_key = os.getenv('GMAPS_KEY')"
   ]
  },
  {
   "cell_type": "code",
   "execution_count": 37,
   "metadata": {},
   "outputs": [],
   "source": [
    "class Ticketmaster():\n",
    "    def __init__(self, api_key):\n",
    "        self.api_key = api_key\n",
    "        self.base_url = \"https://app.ticketmaster.com/\"\n",
    "    \n",
    "    def get_events(self, genre, size=1):\n",
    "        # https://developer.ticketmaster.com/products-and-docs/apis/discovery-api/v2/#search-events-v2\n",
    "        url = self.base_url + \"discovery/v2/events.json?size={}&classificationName=music&keyword={}&apikey={}&city={}\".format(size, genre, self.api_key, \"NYC\")\n",
    "        response = requests.get(url)\n",
    "        return response.json()\n",
    "    \n",
    "    def get_venues(self, size=1):\n",
    "        # https://developer.ticketmaster.com/products-and-docs/apis/discovery-api/v2/#search-venues-v2\n",
    "        url = self.base_url + \"discovery/v2/venues.json?size={}&apikey={}\".format(size, self.api_key)\n",
    "        response = requests.get(url)\n",
    "        return response.json()\n",
    "    \n",
    "    # Search for events sourced by Universe in the United States with keyword “devjam” https://app.ticketmaster.com/discovery/v2/events.json?keyword=devjam&source=universe&countryCode=US&apikey=3fw2o6oLbQrHGokCdGJmxUGxHlgCYhUD\n",
    "\n",
    "    # Search for music events in the Los Angeles area https://app.ticketmaster.com/discovery/v2/events.json?classificationName=music&dmaId=324&apikey=3fw2o6oLbQrHGokCdGJmxUGxHlgCYhUD\n",
    "\n",
    "    # Get a list of all events for Adele in Canada https://app.ticketmaster.com/discovery/v2/events.json?attractionId=K8vZ917Gku7&countryCode=CA&apikey=3fw2o6oLbQrHGokCdGJmxUGxHlgCYhUD\n",
    "    \n",
    "# Initialize the Ticketmaster class\n",
    "tm = Ticketmaster(discovery_key)\n",
    "\n",
    "# tm.get_events()\n",
    "\n",
    "# 'location': {'longitude': '-121.50023100', 'latitude': '38.58037200'},"
   ]
  },
  {
   "cell_type": "code",
   "execution_count": 25,
   "metadata": {},
   "outputs": [],
   "source": [
    "class GoogleMaps():\n",
    "    def __init__(self, api_key):\n",
    "        self.api_key = api_key\n",
    "        self.base_url = \"https://www.google.com/maps/dir/?api=1&parameters\"\n",
    "    \n",
    "    def get_distance(self, origins, destinations):\n",
    "        # https://developers.google.com/maps/documentation/distance-matrix/start\n",
    "        url = self.base_url + \"?origins={}&destinations={}&key={}\".format(origins, destinations, self.api_key)"
   ]
  },
  {
   "cell_type": "code",
   "execution_count": 26,
   "metadata": {},
   "outputs": [
    {
     "name": "stdout",
     "output_type": "stream",
     "text": [
      "Age                                                         20-35\n",
      "Gender                                                     Female\n",
      "spotify_usage_period                            More than 2 years\n",
      "spotify_listening_device       Smart speakers or voice assistants\n",
      "spotify_subscription_plan                     Free (ad-supported)\n",
      "premium_sub_willingness                                       Yes\n",
      "preffered_premium_plan                   Family Plan-Rs 179/month\n",
      "preferred_listening_content                               Podcast\n",
      "fav_music_genre                                            Melody\n",
      "music_time_slot                                             Night\n",
      "music_Influencial_mood                      Sadness or melancholy\n",
      "music_lis_frequency                                  leisure time\n",
      "music_expl_method                                       Playlists\n",
      "music_recc_rating                                               3\n",
      "pod_lis_frequency                                           Daily\n",
      "fav_pod_genre                                              Comedy\n",
      "preffered_pod_format                                    Interview\n",
      "pod_host_preference                                          Both\n",
      "preffered_pod_duration                                       Both\n",
      "pod_variety_satisfaction                                       Ok\n",
      "Name: 0, dtype: object\n"
     ]
    }
   ],
   "source": [
    "# Grab a single spotify:\n",
    "user = spotify_user_data.iloc[0]\n",
    "print(user)"
   ]
  },
  {
   "cell_type": "code",
   "execution_count": 27,
   "metadata": {},
   "outputs": [
    {
     "name": "stdout",
     "output_type": "stream",
     "text": [
      "Melody\n"
     ]
    }
   ],
   "source": [
    "# Grab their fav_music_genre\n",
    "fav_music_genre = user['fav_music_genre']\n",
    "print(fav_music_genre)"
   ]
  },
  {
   "cell_type": "code",
   "execution_count": 28,
   "metadata": {},
   "outputs": [
    {
     "name": "stdout",
     "output_type": "stream",
     "text": [
      "{'longitude': '-87.62706', 'latitude': '41.853988'}\n",
      "41.853988 -87.62706\n"
     ]
    }
   ],
   "source": [
    "# Get event listings based on the user's fav_music_genre\n",
    "\n",
    "events = tm.get_events(size=1, genre=fav_music_genre)\n",
    "print(events['_embedded']['events'][0]['_embedded']['venues'][0]['location']) \n",
    "\n",
    "# genre: id:KnvZfZ7vAvl', subGenre: id:KZazBEonSMnZfZ7vk1I, name: 'Other'\n",
    "\n",
    "# Store into a variable: \n",
    "location = events['_embedded']['events'][0]['_embedded']['venues'][0]['location']\n",
    "\n",
    "longitude = location['longitude']\n",
    "latitude = location['latitude']\n",
    "\n",
    "print(latitude, longitude)\n",
    "\n",
    "# -> Google Maps Routes API(venue, airbnb). Maybe use Geocaching? \n",
    "    # For each event, find distances to each airbnb as the first heuristic\n",
    "        # It helps you find the ideal route from A to Z\n",
    "        # calculates ETAs and distances for matrices of origin and destination locations.\n",
    "    # Further refine the heuristic according to Price (within the distances)"
   ]
  },
  {
   "cell_type": "markdown",
   "metadata": {},
   "source": [
    "A few important considerations:\n",
    "\n",
    "API Costs: Distance Matrix API has usage-based pricing. You'll want to monitor your usage, especially if you have many listings.\n",
    "Alternatives: If cost is a concern, you could:\n",
    "\n",
    "Use the Haversine formula for straight-line distances (less accurate but free)\n",
    "Consider batch processing with OpenStreetMap/OSRM (open-source alternative)\n",
    "\n",
    "\n",
    "Batching: The API has limits on how many destinations you can include in a single request, so you'll need to batch your requests.\n",
    "Travel Mode: Consider which travel mode is most relevant for your recommendations. Walking might be most relevant for city concert venues.\n",
    "\n",
    "This distance data will be a valuable feature in your recommendation system, especially when weighted appropriately alongside other factors like price and listing quality."
   ]
  },
  {
   "cell_type": "code",
   "execution_count": 29,
   "metadata": {},
   "outputs": [],
   "source": [
    "# Spotify:\n",
    "import spotipy\n",
    "from collections import Counter\n",
    "from spotipy.oauth2 import SpotifyOAuth\n"
   ]
  },
  {
   "cell_type": "code",
   "execution_count": 30,
   "metadata": {},
   "outputs": [
    {
     "name": "stdout",
     "output_type": "stream",
     "text": [
      "Requirement already satisfied: spotipy in c:\\users\\koola\\appdata\\local\\programs\\python\\python312\\lib\\site-packages (2.25.1)\n",
      "Requirement already satisfied: redis>=3.5.3 in c:\\users\\koola\\appdata\\local\\programs\\python\\python312\\lib\\site-packages (from spotipy) (5.2.1)\n",
      "Requirement already satisfied: requests>=2.25.0 in c:\\users\\koola\\appdata\\local\\programs\\python\\python312\\lib\\site-packages (from spotipy) (2.32.3)\n",
      "Requirement already satisfied: urllib3>=1.26.0 in c:\\users\\koola\\appdata\\local\\programs\\python\\python312\\lib\\site-packages (from spotipy) (2.2.3)\n",
      "Requirement already satisfied: charset-normalizer<4,>=2 in c:\\users\\koola\\appdata\\local\\programs\\python\\python312\\lib\\site-packages (from requests>=2.25.0->spotipy) (3.4.0)\n",
      "Requirement already satisfied: idna<4,>=2.5 in c:\\users\\koola\\appdata\\local\\programs\\python\\python312\\lib\\site-packages (from requests>=2.25.0->spotipy) (3.10)\n",
      "Requirement already satisfied: certifi>=2017.4.17 in c:\\users\\koola\\appdata\\local\\programs\\python\\python312\\lib\\site-packages (from requests>=2.25.0->spotipy) (2024.8.30)\n",
      "Note: you may need to restart the kernel to use updated packages.\n"
     ]
    },
    {
     "name": "stderr",
     "output_type": "stream",
     "text": [
      "\n",
      "[notice] A new release of pip is available: 24.2 -> 25.0.1\n",
      "[notice] To update, run: python.exe -m pip install --upgrade pip\n"
     ]
    }
   ],
   "source": [
    "%pip install spotipy"
   ]
  },
  {
   "cell_type": "code",
   "execution_count": 31,
   "metadata": {},
   "outputs": [
    {
     "name": "stdout",
     "output_type": "stream",
     "text": [
      "Cached Token Found!\n",
      "Successfully retrieved token!\n",
      "Access Token: BQBZwI4s0-wnByTVe7_l3TXEr7dWWqEpnDNHf81tvmLxTWMpYd81-EVe0BJQ6a9x9u36KHgchX8vKNgkwNUK_6DAG97PyUS6Qt7kr4t5wR4WXoyxLH46OeWej1WNt2wj5EERL5Yz8AeutAdAPZoCa39L6zZwOoBcDntzegXBVrGX70Nww_2v2rbuXhBWub7mErPzPUj_xJq65Lq2sSJVgWv-2w\n"
     ]
    }
   ],
   "source": [
    "import spotipy\n",
    "from spotipy.oauth2 import SpotifyOAuth\n",
    "\n",
    "# Spotify API Credentials\n",
    "CLIENT_ID = \"37c76da637124a1397a88686bc1b8278\"\n",
    "CLIENT_SECRET = \"37c2f9cd367745a1800216e5e166822f\"\n",
    "REDIRECT_URI = \"http://127.0.0.1:8888/callback\"  \n",
    "SCOPE = \"user-top-read\"\n",
    "\n",
    "sp_oauth = SpotifyOAuth(client_id=CLIENT_ID, client_secret=CLIENT_SECRET, redirect_uri=REDIRECT_URI, scope=SCOPE)\n",
    "\n",
    "token_info = sp_oauth.get_cached_token()\n",
    "\n",
    "if token_info:\n",
    "    print(\"Cached Token Found!\")\n",
    "else:\n",
    "    print(\"No cached token found. Fetching new token...\")\n",
    "    token_info = sp_oauth.get_access_token(as_dict=True)\n",
    "\n",
    "if token_info:\n",
    "    print(\"Successfully retrieved token!\")\n",
    "    print(\"Access Token:\", token_info[\"access_token\"])\n",
    "else:\n",
    "    print(\"Failed to get an access token. Check error logs.\")\n",
    "\n",
    "\n"
   ]
  },
  {
   "cell_type": "code",
   "execution_count": 32,
   "metadata": {},
   "outputs": [
    {
     "name": "stdout",
     "output_type": "stream",
     "text": [
      "\n",
      "Your top artists\n",
      "1. Rezz\n",
      "2. KVPV\n",
      "3. CORPSE\n",
      "4. One True God\n",
      "5. William Black\n",
      "6. raph\n",
      "7. Tom Frane\n",
      "8. CVllXXX\n",
      "9. Space Wizard\n",
      "10. Quackson\n"
     ]
    }
   ],
   "source": [
    "if not token_info:\n",
    "    print(\"Fetching new access token\")\n",
    "    token_info = sp_oauth.get_access_token(token_info['refresh_token'])\n",
    "\n",
    "if token_info:\n",
    "    access_token = token_info[\"access_token\"]\n",
    "    sp = spotipy.Spotify(auth=access_token)\n",
    "\n",
    "    # Fetch user's top artists\n",
    "    top_artists = sp.current_user_top_artists(limit=10)\n",
    "\n",
    "\n",
    "    if \"items\" in top_artists and len(top_artists[\"items\"]) > 0:\n",
    "        all_genres = []\n",
    "        artist_names = []\n",
    "        for artist in top_artists[\"items\"]:\n",
    "            all_genres.extend(artist[\"genres\"])\n",
    "            artist_names.append(artist[\"name\"])\n",
    "\n",
    "        \n",
    "        genre_counts = Counter(all_genres)\n",
    "        favorite_genres = genre_counts.most_common(1)\n",
    "\n",
    "        print(\"\\nYour top artists\")\n",
    "        for idx, artist in enumerate(artist_names, start=1):\n",
    "            print(f\"{idx}. {artist}\")\n",
    "\n",
    "        #print(\"\\nYour Top Genres:\")\n",
    "        #for genre, count in favorite_genres:\n",
    "         #   print(f\"{genre}: {count} times\")\n",
    "    else:\n",
    "        print(\"No top artist data found. Try playing more music on Spotify.\")\n",
    "else:\n",
    "    print(\"Error: Could not retrieve access token.\")\n"
   ]
  },
  {
   "cell_type": "code",
   "execution_count": 38,
   "metadata": {},
   "outputs": [
    {
     "name": "stdout",
     "output_type": "stream",
     "text": [
      "No events found for Rezz.\n",
      "No events found for KVPV.\n",
      "No events found for CORPSE.\n",
      "No events found for One True God.\n",
      "No events found for William Black.\n",
      "No events found for raph.\n",
      "No events found for Tom Frane.\n",
      "No events found for CVllXXX.\n",
      "No events found for Space Wizard.\n",
      "No events found for Quackson.\n"
     ]
    }
   ],
   "source": [
    "# Now perform searches for events for each top artist\n",
    "for artist in artist_names:\n",
    "    events = tm.get_events(size=1, genre=artist)\n",
    "    if \"_embedded\" in events and \"events\" in events[\"_embedded\"] and len(events[\"_embedded\"][\"events\"]) > 0:\n",
    "        event = events[\"_embedded\"][\"events\"][0]\n",
    "        print(f\"\\nEvent for {artist}:\")\n",
    "        print(f\"Event Name: {event['name']}\")\n",
    "        print(f\"Event Date: {event['dates']['start']['localDate']}\")\n",
    "        print(f\"Event Venue: {event['_embedded']['venues'][0]['name']}\")\n",
    "        print(f\"Event Location: {event['_embedded']['venues'][0]['location']}\")\n",
    "    else:\n",
    "        print(f\"No events found for {artist}.\")"
   ]
  },
  {
   "cell_type": "code",
   "execution_count": null,
   "metadata": {},
   "outputs": [],
   "source": [
    "# Now: perform searches ONLY in nyc:\n",
    "for artist in artist_names:\n",
    "    events = tm.get_events(size=1, genre=artist)\n",
    "    \n"
   ]
  },
  {
   "cell_type": "markdown",
   "metadata": {},
   "source": []
  }
 ],
 "metadata": {
  "kernelspec": {
   "display_name": "Python 3",
   "language": "python",
   "name": "python3"
  },
  "language_info": {
   "codemirror_mode": {
    "name": "ipython",
    "version": 3
   },
   "file_extension": ".py",
   "mimetype": "text/x-python",
   "name": "python",
   "nbconvert_exporter": "python",
   "pygments_lexer": "ipython3",
   "version": "3.12.7"
  }
 },
 "nbformat": 4,
 "nbformat_minor": 2
}

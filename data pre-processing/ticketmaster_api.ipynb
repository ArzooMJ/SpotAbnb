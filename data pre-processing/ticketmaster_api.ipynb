{
 "cells": [
  {
   "cell_type": "code",
   "execution_count": 5,
   "metadata": {},
   "outputs": [],
   "source": [
    "import requests\n",
    "import json\n",
    "import pandas as pd"
   ]
  },
  {
   "cell_type": "code",
   "execution_count": 1,
   "metadata": {},
   "outputs": [],
   "source": [
    "# events_df = pd.DataFrame(columns=['id', 'name', 'description', 'start', 'end', 'location', 'category', 'url', 'image', 'price', 'currency', 'status', 'created', 'modified', 'online', 'venue', 'organizer', 'tickets', 'capacity', 'attendees', 'waitlist', 'shareable', 'invite_only', 'password', 'capacity_is_custom', 'show_remaining', 'remaining', 'source', 'is_free', 'logo', 'logo_id', 'category_id', 'subcategory_id', 'format_id', 'resource_uri', 'is_externally_ticketed', 'logo_url', 'logo_aspect_ratio', 'organizer_id', 'venue_id', 'format', 'subcategory', 'category_name', 'venue_name', 'venue_latitude', 'venue_longitude', 'organizer_name', 'organizer_description', 'organizer_long_description', 'organizer_logo', 'organizer_url', 'organizer_twitter', 'organizer_facebook', 'organizer_num_past_events', 'organizer_num_future_events', 'organizer_num_followers', 'organizer_num_following', 'organizer_num_upcoming_events', 'organizer_num_published_events', 'organizer_num_tickets', 'organizer_num_public_events', 'organizer_num_private_events', 'organizer_num_internal_events', 'organizer_num_external_events', 'organizer_num_internal_live_events', 'organizer_num_internal_draft_events', 'organizer_num_internal_published_events', 'organizer_num_internal_past_events', 'organizer_num_internal_future_events', 'organizer_num_internal_upcoming_events', 'organizer_num_internal_public_events', 'organizer_num_internal_private_events', 'organizer_num_internal_internal_events', 'organizer_num_internal_external_events', 'organizer_num_internal_internal_live_events', 'organizer_num_internal_internal_draft_events', 'organizer_num_internal_internal_published_events', 'organizer_num_internal_internal_past_events', 'organizer_num_internal_internal_future_events', 'organizer_num_internal_internal_upcoming_events', 'organizer_num_internal_internal_public_events', 'organizer_num_internal_internal_private_events', 'organizer_num_internal_internal_internal_events', 'organizer_num_internal_internal_external_events', 'organizer_num_internal_internal_internal_live_events', 'organizer_num_internal_internal_internal_draft_events', 'organizer_num_internal_internal_internal_published_events', 'organizer_num_internal_internal_internal_past_events', 'organizer_num_internal_internal_internal)"
   ]
  },
  {
   "cell_type": "code",
   "execution_count": 6,
   "metadata": {},
   "outputs": [
    {
     "data": {
      "text/plain": [
       "'\\ndef get_concerts_based_on_artist(artist_name, city=\"New York\"):\\n    url = f\"https://app.ticketmaster.com/discovery/v2/events.json\"\\n    params ={\\n        \\'apikey\\': API_KEY,\\n        \\'keyword\\': artist_name,  # Artist name\\n        \\'city\\': city,\\n        \\'size\\': 5\\n    }\\n\\n    response = requests.get(url, params=params)\\n    if response.status_code == 200:\\n        data = response.json()\\n        events = data.get(\\'_embedded\\', {}).get(\\'events\\', [])\\n\\n        if events:\\n            print(f\"Concerts for {artist_name} in {city}:\")\\n            for event in events:\\n                event_name = event[\\'name\\']\\n                event_date = event[\\'dates\\'][\\'start\\'][\\'localDate\\']\\n                venue_name = event[\\'_embedded\\'][\\'venues\\'][0][\\'name\\']\\n                venue_location = event[\\'_embedded\\'][\\'venues\\'][0][\\'city\\'][\\'name\\']\\n                print(f\"{event_name} - {event_date} at {venue_name}, {venue_location}\")\\n        else:\\n            print(f\"No concerts found for {artist_name} in {city}.\")\\n    else:\\n        print(\"Error fetching data from Ticketmaster API.\")\\n\\nartist_name = \"Kenzie Cait\"\\nget_concerts_based_on_artist(artist_name)\\n'"
      ]
     },
     "execution_count": 6,
     "metadata": {},
     "output_type": "execute_result"
    }
   ],
   "source": [
    "API_KEY = 'KraVYTRQzL31I7TleeO3d8AwQyMkaWwA'\n",
    "def read_spotify():\n",
    "    try: \n",
    "        with open(\"spotify_data.json\",\"r\") as f:\n",
    "            return json.load(f)\n",
    "    except FileNotFoundError:\n",
    "        print(\"Error: Sotify data file not found.\")\n",
    "\n",
    "\"\"\"\n",
    "def get_concerts_based_on_artist(artist_name, city=\"New York\"):\n",
    "    url = f\"https://app.ticketmaster.com/discovery/v2/events.json\"\n",
    "    params ={\n",
    "        'apikey': API_KEY,\n",
    "        'keyword': artist_name,  # Artist name\n",
    "        'city': city,\n",
    "        'size': 5\n",
    "    }\n",
    "\n",
    "    response = requests.get(url, params=params)\n",
    "    if response.status_code == 200:\n",
    "        data = response.json()\n",
    "        events = data.get('_embedded', {}).get('events', [])\n",
    "\n",
    "        if events:\n",
    "            print(f\"Concerts for {artist_name} in {city}:\")\n",
    "            for event in events:\n",
    "                event_name = event['name']\n",
    "                event_date = event['dates']['start']['localDate']\n",
    "                venue_name = event['_embedded']['venues'][0]['name']\n",
    "                venue_location = event['_embedded']['venues'][0]['city']['name']\n",
    "                print(f\"{event_name} - {event_date} at {venue_name}, {venue_location}\")\n",
    "        else:\n",
    "            print(f\"No concerts found for {artist_name} in {city}.\")\n",
    "    else:\n",
    "        print(\"Error fetching data from Ticketmaster API.\")\n",
    "\n",
    "artist_name = \"Kenzie Cait\"\n",
    "get_concerts_based_on_artist(artist_name)\n",
    "\"\"\""
   ]
  },
  {
   "cell_type": "code",
   "execution_count": 7,
   "metadata": {},
   "outputs": [
    {
     "name": "stdout",
     "output_type": "stream",
     "text": [
      "\n",
      "Concerts in New York for Gracie Abrams:\n",
      "\n",
      "Gracie Abrams: The Secret Of Us Deluxe Tour with Role Model \n",
      "2025-07-28 at New York,New York\n",
      "Longitude: -73.99160060, Latitude: 40.74970620\n",
      "\n",
      "Gracie Abrams: The Secret Of Us Deluxe Tour with Role Model \n",
      "2025-07-29 at New York,New York\n",
      "Longitude: -73.99160060, Latitude: 40.74970620\n",
      "\n",
      "Concerts in New York for pop:\n",
      "\n",
      "Um, Jennifer?, Pop Music Fever Dream \n",
      "2025-04-25 at New York,New York\n",
      "Longitude: -73.9840245, Latitude: 40.7258559\n",
      "\n",
      "Yacht Rock Revue - Yacht Rock Forever Tour \n",
      "2025-08-01 at New York,New York\n",
      "Longitude: -74.001798, Latitude: 40.7056185\n",
      "\n",
      "Yacht Rock Revue - Yacht Rock Forever Tour \n",
      "2025-08-01 at New York,New York\n",
      "Longitude: -74.002899000, Latitude: 40.708801000\n",
      "\n",
      "The Rock Orchestra By Candlelight \n",
      "2025-12-09 at New York,New York\n",
      "Longitude: -73.98067300, Latitude: 40.77992500\n",
      "\n",
      "Dash Rip Rock | Eric Ambel \n",
      "2025-05-16 at New York,New York\n",
      "Longitude: -73.986080, Latitude: 40.722974\n",
      "\n",
      "HHH Classic Rock Reunion with The Hollow Men \n",
      "2025-04-19 at New York,New York\n",
      "Longitude: -73.9903775, Latitude: 40.7442495\n",
      "\n",
      "School of Rock Manhattan - End of Season \n",
      "2025-06-08 at New York,New York\n",
      "Longitude: -73.9903775, Latitude: 40.7442495\n",
      "\n",
      "School of Rock Manhattan - End of Season \n",
      "2025-06-14 at New York,New York\n",
      "Longitude: -73.9903775, Latitude: 40.7442495\n",
      "\n",
      "School of Rock Manhattan - End of Season \n",
      "2025-06-15 at New York,New York\n",
      "Longitude: -73.9903775, Latitude: 40.7442495\n",
      "\n",
      "School of Rock New York: Mid Season Show \n",
      "2025-04-26 at New York,New York\n",
      "Longitude: -73.982927, Latitude: 40.745847\n"
     ]
    }
   ],
   "source": [
    "def get_concerts(artists, genre, city=\"New York\"):\n",
    "    url = f\"https://app.ticketmaster.com/discovery/v2/events.json\"\n",
    "\n",
    "    search_terms = artists+[genre] if genre else artists\n",
    "\n",
    "    for term in search_terms:\n",
    "        params = {\n",
    "            'apikey': API_KEY,\n",
    "            'keyword': term,\n",
    "            'city': city,\n",
    "            'classificationName': 'music',\n",
    "            'size': 10\n",
    "        }\n",
    "\n",
    "        response = requests.get(url, params=params)\n",
    "        if response.status_code==200:\n",
    "            data = response.json()\n",
    "            events = data.get('_embedded', {}).get('events', [])\n",
    "            if events:\n",
    "                # Create a pandas dataframe\n",
    "                events_df = pd.DataFrame(columns = ['event_name', 'event_date', 'venue_name', 'venue_location', 'longitude', 'latitude'])\n",
    "                \n",
    "                print(f\"\\nConcerts in {city} for {term}:\")\n",
    "                for event in events:\n",
    "                    event_name = event['name']\n",
    "                    event_date = event['dates']['start']['localDate']\n",
    "                    venue_name = event['_embedded']['venues'][0]['city']['name']\n",
    "                    venue_location = event['_embedded']['venues'][0]['city']['name']\n",
    "                    longitude = event['_embedded']['venues'][0]['location']['longitude']\n",
    "                    latitude = event['_embedded']['venues'][0]['location']['latitude']\n",
    "                    print(f\"\\n{event_name} \\n{event_date} at {venue_name},{venue_location}\")\n",
    "                    print(f\"Longitude: {longitude}, Latitude: {latitude}\")\n",
    "\n",
    "                    # Write into a pandas dataframe -> csv file\n",
    "                    # insert name, date, venue name, venue location, longitude, latitude\n",
    "                    events_df.loc[len(events_df)] = [event_name, event_date, venue_name, venue_location, longitude, latitude]\n",
    "                    \n",
    "                events_df.to_csv('events.csv')\n",
    "                    \n",
    "        else:\n",
    "            print(\"No concerts found :(\")\n",
    "            events_df.to_csv('events.csv')\n",
    "\n",
    "spotify_data = read_spotify()\n",
    "if spotify_data:\n",
    "    get_concerts(spotify_data[\"top_artists\"], spotify_data[\"top_genre\"])\n",
    "\n"
   ]
  }
 ],
 "metadata": {
  "kernelspec": {
   "display_name": "base",
   "language": "python",
   "name": "python3"
  },
  "language_info": {
   "codemirror_mode": {
    "name": "ipython",
    "version": 3
   },
   "file_extension": ".py",
   "mimetype": "text/x-python",
   "name": "python",
   "nbconvert_exporter": "python",
   "pygments_lexer": "ipython3",
   "version": "3.11.7"
  }
 },
 "nbformat": 4,
 "nbformat_minor": 2
}

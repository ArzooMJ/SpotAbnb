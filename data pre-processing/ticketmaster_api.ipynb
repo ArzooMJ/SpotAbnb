{
 "cells": [
  {
   "cell_type": "code",
   "execution_count": null,
   "metadata": {},
   "outputs": [
    {
     "ename": "ModuleNotFoundError",
     "evalue": "No module named 'spotify_api'",
     "output_type": "error",
     "traceback": [
      "\u001b[0;31m---------------------------------------------------------------------------\u001b[0m",
      "\u001b[0;31mModuleNotFoundError\u001b[0m                       Traceback (most recent call last)",
      "Cell \u001b[0;32mIn[9], line 2\u001b[0m\n\u001b[1;32m      1\u001b[0m \u001b[38;5;28;01mimport\u001b[39;00m \u001b[38;5;21;01mrequests\u001b[39;00m\n\u001b[0;32m----> 2\u001b[0m \u001b[38;5;28;01mimport\u001b[39;00m \u001b[38;5;21;01mspotify_api\u001b[39;00m\n",
      "\u001b[0;31mModuleNotFoundError\u001b[0m: No module named 'spotify_api'"
     ]
    }
   ],
   "source": [
    "import requests\n",
    "from spotify_api\n"
   ]
  },
  {
   "cell_type": "code",
   "execution_count": null,
   "metadata": {},
   "outputs": [
    {
     "name": "stdout",
     "output_type": "stream",
     "text": [
      "Concerts for Kenzie Cait in New York:\n",
      "Kenzie Cait - 2025-03-26 at Mercury Lounge, New York\n"
     ]
    }
   ],
   "source": [
    "API_KEY = 'KraVYTRQzL31I7TleeO3d8AwQyMkaWwA'\n",
    "\n",
    "def get_concerts_based_on_artist(artist_name, city=\"New York\"):\n",
    "    url = f\"https://app.ticketmaster.com/discovery/v2/events.json\"\n",
    "    params ={\n",
    "        'apikey': API_KEY,\n",
    "        'keyword': artist_name,  # Artist name\n",
    "        'city': city,\n",
    "        'size': 5\n",
    "    }\n",
    "\n",
    "    response = requests.get(url, params=params)\n",
    "    if response.status_code == 200:\n",
    "        data = response.json()\n",
    "        events = data.get('_embedded', {}).get('events', [])\n",
    "\n",
    "        if events:\n",
    "            print(f\"Concerts for {artist_name} in {city}:\")\n",
    "            for event in events:\n",
    "                event_name = event['name']\n",
    "                event_date = event['dates']['start']['localDate']\n",
    "                venue_name = event['_embedded']['venues'][0]['name']\n",
    "                venue_location = event['_embedded']['venues'][0]['city']['name']\n",
    "                print(f\"{event_name} - {event_date} at {venue_name}, {venue_location}\")\n",
    "        else:\n",
    "            print(f\"No concerts found for {artist_name} in {city}.\")\n",
    "    else:\n",
    "        print(\"Error fetching data from Ticketmaster API.\")\n",
    "\n",
    "artist_name = \"Kenzie Cait\"\n",
    "get_concerts_based_on_artist(artist_name)"
   ]
  },
  {
   "cell_type": "code",
   "execution_count": 8,
   "metadata": {},
   "outputs": [
    {
     "name": "stdout",
     "output_type": "stream",
     "text": [
      "\n",
      "Concerts in New york for genre 'Pop':\n",
      "Um, Jennifer?, Pop Music Fever Dream - 2025-04-25 at Night Club 101, New York\n",
      "Yacht Rock Revue - Yacht Rock Forever Tour - 2025-08-01 at The Rooftop at Pier 17, New York\n",
      "Yacht Rock Revue - Yacht Rock Forever Tour - 2025-08-01 at The Rooftop at Pier 17, New York\n",
      "HHH Classic Rock Reunion with The Hollow Men - 2025-04-19 at Hill Country Live, New York\n",
      "School of Rock New York: Mid Season Show - 2025-04-26 at Cutting Room, New York\n",
      "School of Rock New York: Mid Season Show - 2025-04-27 at Cutting Room, New York\n",
      "Night of Too Many Stars - Benefits NEXT for AUTISM - 2025-03-31 at Beacon Theatre, New York\n",
      "Breakfast with the Bunny - 2025-04-13 at Hard Rock Cafe, New York\n",
      "Queen Flash - 2025-09-06 at Hard Rock Cafe, New York\n",
      "The Vindys, Silver Tooth Cactus, The Barons - 2025-06-26 at Drom, New York\n"
     ]
    }
   ],
   "source": [
    "def get_concerts_based_on_genre(genre, city=\"New york\"):\n",
    "    url = f\"https://app.ticketmaster.com/discovery/v2/events.json\"\n",
    "    params ={\n",
    "        'apikey': API_KEY,\n",
    "        'keyword': genre,  # Artist name\n",
    "        'city': city,\n",
    "        'size': 10\n",
    "    }\n",
    "\n",
    "    response = requests.get(url, params=params)\n",
    "    if response.status_code == 200:\n",
    "        data = response.json()\n",
    "        events = data.get('_embedded', {}).get('events', [])\n",
    "        \n",
    "        if events:\n",
    "            print(f\"\\nConcerts in {city} for genre '{genre}':\")\n",
    "            for event in events:\n",
    "                event_name = event['name']\n",
    "                event_date = event['dates']['start']['localDate']\n",
    "                venue_name = event['_embedded']['venues'][0]['name']\n",
    "                venue_location = event['_embedded']['venues'][0]['city']['name']\n",
    "                print(f\"{event_name} - {event_date} at {venue_name}, {venue_location}\")\n",
    "        else:\n",
    "            print(f\"No concerts found for genre '{genre}' in {city}.\")\n",
    "    else:\n",
    "        print(\"Error fetching data from Ticketmaster API.\")\n",
    "\n",
    "genre = \"Pop\"\n",
    "get_concerts_based_on_genre(genre)"
   ]
  },
  {
   "cell_type": "code",
   "execution_count": null,
   "metadata": {},
   "outputs": [],
   "source": []
  }
 ],
 "metadata": {
  "kernelspec": {
   "display_name": "base",
   "language": "python",
   "name": "python3"
  },
  "language_info": {
   "codemirror_mode": {
    "name": "ipython",
    "version": 3
   },
   "file_extension": ".py",
   "mimetype": "text/x-python",
   "name": "python",
   "nbconvert_exporter": "python",
   "pygments_lexer": "ipython3",
   "version": "3.11.7"
  }
 },
 "nbformat": 4,
 "nbformat_minor": 2
}

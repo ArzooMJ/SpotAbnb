{
 "cells": [
  {
   "cell_type": "code",
   "execution_count": 4,
   "metadata": {},
   "outputs": [],
   "source": [
    "import requests\n",
    "import json"
   ]
  },
  {
   "cell_type": "code",
   "execution_count": 5,
   "metadata": {},
   "outputs": [
    {
     "data": {
      "text/plain": [
       "'\\ndef get_concerts_based_on_artist(artist_name, city=\"New York\"):\\n    url = f\"https://app.ticketmaster.com/discovery/v2/events.json\"\\n    params ={\\n        \\'apikey\\': API_KEY,\\n        \\'keyword\\': artist_name,  # Artist name\\n        \\'city\\': city,\\n        \\'size\\': 5\\n    }\\n\\n    response = requests.get(url, params=params)\\n    if response.status_code == 200:\\n        data = response.json()\\n        events = data.get(\\'_embedded\\', {}).get(\\'events\\', [])\\n\\n        if events:\\n            print(f\"Concerts for {artist_name} in {city}:\")\\n            for event in events:\\n                event_name = event[\\'name\\']\\n                event_date = event[\\'dates\\'][\\'start\\'][\\'localDate\\']\\n                venue_name = event[\\'_embedded\\'][\\'venues\\'][0][\\'name\\']\\n                venue_location = event[\\'_embedded\\'][\\'venues\\'][0][\\'city\\'][\\'name\\']\\n                print(f\"{event_name} - {event_date} at {venue_name}, {venue_location}\")\\n        else:\\n            print(f\"No concerts found for {artist_name} in {city}.\")\\n    else:\\n        print(\"Error fetching data from Ticketmaster API.\")\\n\\nartist_name = \"Kenzie Cait\"\\nget_concerts_based_on_artist(artist_name)\\n'"
      ]
     },
     "execution_count": 5,
     "metadata": {},
     "output_type": "execute_result"
    }
   ],
   "source": [
    "API_KEY = 'KraVYTRQzL31I7TleeO3d8AwQyMkaWwA'\n",
    "\n",
    "def read_spotify():\n",
    "    try: \n",
    "        with open(\"spotify_data.json\",\"r\") as f:\n",
    "            return json.load(f)\n",
    "    except FileNotFoundError:\n",
    "        print(\"Error: Sotify data file not found.\")\n",
    "\n",
    "\"\"\"\n",
    "def get_concerts_based_on_artist(artist_name, city=\"New York\"):\n",
    "    url = f\"https://app.ticketmaster.com/discovery/v2/events.json\"\n",
    "    params ={\n",
    "        'apikey': API_KEY,\n",
    "        'keyword': artist_name,  # Artist name\n",
    "        'city': city,\n",
    "        'size': 5\n",
    "    }\n",
    "\n",
    "    response = requests.get(url, params=params)\n",
    "    if response.status_code == 200:\n",
    "        data = response.json()\n",
    "        events = data.get('_embedded', {}).get('events', [])\n",
    "\n",
    "        if events:\n",
    "            print(f\"Concerts for {artist_name} in {city}:\")\n",
    "            for event in events:\n",
    "                event_name = event['name']\n",
    "                event_date = event['dates']['start']['localDate']\n",
    "                venue_name = event['_embedded']['venues'][0]['name']\n",
    "                venue_location = event['_embedded']['venues'][0]['city']['name']\n",
    "                print(f\"{event_name} - {event_date} at {venue_name}, {venue_location}\")\n",
    "        else:\n",
    "            print(f\"No concerts found for {artist_name} in {city}.\")\n",
    "    else:\n",
    "        print(\"Error fetching data from Ticketmaster API.\")\n",
    "\n",
    "artist_name = \"Kenzie Cait\"\n",
    "get_concerts_based_on_artist(artist_name)\n",
    "\"\"\""
   ]
  },
  {
   "cell_type": "code",
   "execution_count": null,
   "metadata": {},
   "outputs": [
    {
     "name": "stdout",
     "output_type": "stream",
     "text": [
      "\n",
      "Concerts in New York for CORPSE:\n",
      "\n",
      "MESHUGGAH - with special guests Cannibal Corpse & Carcass \n",
      "2025-04-24 at New York,New York\n",
      "Longitude: -73.99160060, Latitude: 40.74970620\n",
      "\n",
      "Concerts in New York for Dance/Electronic:\n",
      "\n",
      "Femme Fatale \n",
      "2025-04-16 at New York,New York\n",
      "Longitude: -73.9840245, Latitude: 40.7258559\n",
      "\n",
      "The Living Tombstone (16 & Over) \n",
      "2025-10-07 at New York,New York\n",
      "Longitude: -73.989098000, Latitude: 40.731602000\n",
      "\n",
      "DJ Shu-G \n",
      "2025-04-25 at New York,New York\n",
      "Longitude: -74.0050445, Latitude: 40.7284733\n",
      "\n",
      "2 Years of It's A Secret \n",
      "2025-03-28 at New York,New York\n",
      "Longitude: -73.9840245, Latitude: 40.7258559\n",
      "\n",
      "Goose @ MSG After-Party with Rivka Ruth and Friends \n",
      "2025-06-28 at New York,New York\n",
      "Longitude: -73.9903775, Latitude: 40.7442495\n",
      "\n",
      "The Party \n",
      "2025-04-10 at New York,New York\n",
      "Longitude: -73.9840245, Latitude: 40.7258559\n",
      "\n",
      "Of the Sun \n",
      "2025-03-29 at New York,New York\n",
      "Longitude: -73.9840245, Latitude: 40.7258559\n",
      "\n",
      "Deer Park \n",
      "2025-04-03 at New York,New York\n",
      "Longitude: -73.9840245, Latitude: 40.7258559\n",
      "\n",
      "Addison Groove Project \n",
      "2025-04-05 at New York,New York\n",
      "Longitude: -73.9843144, Latitude: 40.7253238\n",
      "\n",
      "High Energy Theory \n",
      "2025-04-05 at New York,New York\n",
      "Longitude: -73.9840245, Latitude: 40.7258559\n"
     ]
    }
   ],
   "source": [
    "def get_concerts(artists, genre, city=\"New York\"):\n",
    "    url = f\"https://app.ticketmaster.com/discovery/v2/events.json\"\n",
    "\n",
    "    search_terms = artists+[genre] if genre else artists\n",
    "\n",
    "    for term in search_terms:\n",
    "        params = {\n",
    "            'apikey': API_KEY,\n",
    "            'keyword': term,\n",
    "            'city': city,\n",
    "            'classificationName': 'music',\n",
    "            'size': 10\n",
    "        }\n",
    "\n",
    "        response = requests.get(url, params=params)\n",
    "        if response.status_code==200:\n",
    "            data = response.json()\n",
    "            events = data.get('_embedded', {}).get('events', [])\n",
    "            if events:\n",
    "                print(f\"\\nConcerts in {city} for {term}:\")\n",
    "                for event in events:\n",
    "                    event_name = event['name']\n",
    "                    event_date = event['dates']['start']['localDate']\n",
    "                    venue_name = event['_embedded']['venues'][0]['city']['name']\n",
    "                    venue_location = event['_embedded']['venues'][0]['city']['name']\n",
    "                    longitude = event['_embedded']['venues'][0]['location']['longitude']\n",
    "                    latitude = event['_embedded']['venues'][0]['location']['latitude']\n",
    "                    print(f\"\\n{event_name} \\n{event_date} at {venue_name},{venue_location}\")\n",
    "                    print(f\"Longitude: {longitude}, Latitude: {latitude}\") # Write into a file? \n",
    "        else:\n",
    "            print(\"No concerts found :(\")\n",
    "\n",
    "spotify_data = read_spotify()\n",
    "if spotify_data:\n",
    "    get_concerts(spotify_data[\"top_artists\"], spotify_data[\"top_genre\"])\n",
    "\n"
   ]
  },
  {
   "cell_type": "code",
   "execution_count": null,
   "metadata": {},
   "outputs": [],
   "source": []
  }
 ],
 "metadata": {
  "kernelspec": {
   "display_name": "Python 3",
   "language": "python",
   "name": "python3"
  },
  "language_info": {
   "codemirror_mode": {
    "name": "ipython",
    "version": 3
   },
   "file_extension": ".py",
   "mimetype": "text/x-python",
   "name": "python",
   "nbconvert_exporter": "python",
   "pygments_lexer": "ipython3",
   "version": "3.12.7"
  }
 },
 "nbformat": 4,
 "nbformat_minor": 2
}

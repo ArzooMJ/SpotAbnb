{
 "cells": [
  {
   "cell_type": "code",
   "execution_count": 28,
   "metadata": {},
   "outputs": [],
   "source": [
    "import requests\n",
    "import json\n"
   ]
  },
  {
   "cell_type": "code",
   "execution_count": 29,
   "metadata": {},
   "outputs": [
    {
     "data": {
      "text/plain": [
       "'\\ndef get_concerts_based_on_artist(artist_name, city=\"New York\"):\\n    url = f\"https://app.ticketmaster.com/discovery/v2/events.json\"\\n    params ={\\n        \\'apikey\\': API_KEY,\\n        \\'keyword\\': artist_name,  # Artist name\\n        \\'city\\': city,\\n        \\'size\\': 5\\n    }\\n\\n    response = requests.get(url, params=params)\\n    if response.status_code == 200:\\n        data = response.json()\\n        events = data.get(\\'_embedded\\', {}).get(\\'events\\', [])\\n\\n        if events:\\n            print(f\"Concerts for {artist_name} in {city}:\")\\n            for event in events:\\n                event_name = event[\\'name\\']\\n                event_date = event[\\'dates\\'][\\'start\\'][\\'localDate\\']\\n                venue_name = event[\\'_embedded\\'][\\'venues\\'][0][\\'name\\']\\n                venue_location = event[\\'_embedded\\'][\\'venues\\'][0][\\'city\\'][\\'name\\']\\n                print(f\"{event_name} - {event_date} at {venue_name}, {venue_location}\")\\n        else:\\n            print(f\"No concerts found for {artist_name} in {city}.\")\\n    else:\\n        print(\"Error fetching data from Ticketmaster API.\")\\n\\nartist_name = \"Kenzie Cait\"\\nget_concerts_based_on_artist(artist_name)\\n'"
      ]
     },
     "execution_count": 29,
     "metadata": {},
     "output_type": "execute_result"
    }
   ],
   "source": [
    "API_KEY = 'KraVYTRQzL31I7TleeO3d8AwQyMkaWwA'\n",
    "\n",
    "def read_spotify():\n",
    "    try: \n",
    "        with open(\"spotify_data.json\",\"r\") as f:\n",
    "            return json.load(f)\n",
    "    except FileNotFoundError:\n",
    "        print(\"Error: Sotify data file not found.\")\n",
    "\n",
    "\"\"\"\n",
    "def get_concerts_based_on_artist(artist_name, city=\"New York\"):\n",
    "    url = f\"https://app.ticketmaster.com/discovery/v2/events.json\"\n",
    "    params ={\n",
    "        'apikey': API_KEY,\n",
    "        'keyword': artist_name,  # Artist name\n",
    "        'city': city,\n",
    "        'size': 5\n",
    "    }\n",
    "\n",
    "    response = requests.get(url, params=params)\n",
    "    if response.status_code == 200:\n",
    "        data = response.json()\n",
    "        events = data.get('_embedded', {}).get('events', [])\n",
    "\n",
    "        if events:\n",
    "            print(f\"Concerts for {artist_name} in {city}:\")\n",
    "            for event in events:\n",
    "                event_name = event['name']\n",
    "                event_date = event['dates']['start']['localDate']\n",
    "                venue_name = event['_embedded']['venues'][0]['name']\n",
    "                venue_location = event['_embedded']['venues'][0]['city']['name']\n",
    "                print(f\"{event_name} - {event_date} at {venue_name}, {venue_location}\")\n",
    "        else:\n",
    "            print(f\"No concerts found for {artist_name} in {city}.\")\n",
    "    else:\n",
    "        print(\"Error fetching data from Ticketmaster API.\")\n",
    "\n",
    "artist_name = \"Kenzie Cait\"\n",
    "get_concerts_based_on_artist(artist_name)\n",
    "\"\"\""
   ]
  },
  {
   "cell_type": "code",
   "execution_count": 30,
   "metadata": {},
   "outputs": [
    {
     "name": "stdout",
     "output_type": "stream",
     "text": [
      "\n",
      "Concerts in New York for Taylor Swift:\n",
      "\n",
      "The Taylor Party: Taylor Swift Night (18 & Over) \n",
      "2025-04-04 at New York,New York\n",
      "\n",
      "Concerts in New York for Gracie Abrams:\n",
      "\n",
      "Gracie Abrams: The Secret Of Us Deluxe Tour with Role Model \n",
      "2025-07-28 at New York,New York\n",
      "\n",
      "Gracie Abrams: The Secret Of Us Deluxe Tour with Role Model \n",
      "2025-07-29 at New York,New York\n",
      "\n",
      "Concerts in New York for pop:\n",
      "\n",
      "Um, Jennifer?, Pop Music Fever Dream \n",
      "2025-04-25 at New York,New York\n",
      "\n",
      "Yacht Rock Revue - Yacht Rock Forever Tour \n",
      "2025-08-01 at New York,New York\n",
      "\n",
      "Yacht Rock Revue - Yacht Rock Forever Tour \n",
      "2025-08-01 at New York,New York\n",
      "\n",
      "Dash Rip Rock \n",
      "2025-05-16 at New York,New York\n",
      "\n",
      "HHH Classic Rock Reunion with The Hollow Men \n",
      "2025-04-19 at New York,New York\n",
      "\n",
      "School of Rock New York: Mid Season Show \n",
      "2025-04-26 at New York,New York\n",
      "\n",
      "School of Rock New York: Mid Season Show \n",
      "2025-04-27 at New York,New York\n",
      "\n",
      "Queen Flash \n",
      "2025-09-06 at New York,New York\n",
      "\n",
      "JoJo - 16+ \n",
      "2025-03-29 at New York,New York\n",
      "\n",
      "Nektar & Paul Bielatowicz Band \n",
      "2025-04-10 at New York,New York\n"
     ]
    }
   ],
   "source": [
    "def get_concerts(artists, genre, city=\"New York\"):\n",
    "    url = f\"https://app.ticketmaster.com/discovery/v2/events.json\"\n",
    "\n",
    "    search_terms = artists+[genre] if genre else artists\n",
    "\n",
    "    for term in search_terms:\n",
    "        params = {\n",
    "            'apikey': API_KEY,\n",
    "            'keyword': term,\n",
    "            'city': city,\n",
    "            'classificationName': 'music',\n",
    "            'size': 10\n",
    "        }\n",
    "\n",
    "        response = requests.get(url, params=params)\n",
    "        if response.status_code==200:\n",
    "            data = response.json()\n",
    "            events = data.get('_embedded', {}).get('events', [])\n",
    "            if events:\n",
    "                print(f\"\\nConcerts in {city} for {term}:\")\n",
    "                for event in events:\n",
    "                    event_name = event['name']\n",
    "                    event_date = event['dates']['start']['localDate']\n",
    "                    venue_name = event['_embedded']['venues'][0]['city']['name']\n",
    "                    venue_location = event['_embedded']['venues'][0]['city']['name']\n",
    "                    print(f\"\\n{event_name} \\n{event_date} at {venue_name},{venue_location}\")\n",
    "        else:\n",
    "            print(\"No concerts found :(\")\n",
    "\n",
    "spotify_data = read_spotify()\n",
    "if spotify_data:\n",
    "    get_concerts(spotify_data[\"top_artists\"], spotify_data[\"top_genre\"])"
   ]
  }
 ],
 "metadata": {
  "kernelspec": {
   "display_name": "base",
   "language": "python",
   "name": "python3"
  },
  "language_info": {
   "codemirror_mode": {
    "name": "ipython",
    "version": 3
   },
   "file_extension": ".py",
   "mimetype": "text/x-python",
   "name": "python",
   "nbconvert_exporter": "python",
   "pygments_lexer": "ipython3",
   "version": "3.11.7"
  }
 },
 "nbformat": 4,
 "nbformat_minor": 2
}

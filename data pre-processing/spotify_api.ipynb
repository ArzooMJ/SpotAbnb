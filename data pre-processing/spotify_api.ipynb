{
 "cells": [
  {
   "cell_type": "code",
   "execution_count": 24,
   "metadata": {},
   "outputs": [],
   "source": [
    "import spotipy\n",
    "from collections import Counter\n",
    "from spotipy.oauth2 import SpotifyOAuth\n"
   ]
  },
  {
   "cell_type": "code",
   "execution_count": 34,
   "metadata": {},
   "outputs": [
    {
     "name": "stdout",
     "output_type": "stream",
     "text": [
      "🔄 No cached token found. Fetching new token...\n"
     ]
    },
    {
     "name": "stderr",
     "output_type": "stream",
     "text": [
      "/var/folders/xl/xw8pbk6s4kdf7yy18q7vzd1m0000gn/T/ipykernel_58514/2972103809.py:20: DeprecationWarning: You're using 'as_dict = True'.get_access_token will return the token string directly in future versions. Please adjust your code accordingly, or use get_cached_token instead.\n",
      "  token_info = sp_oauth.get_access_token(as_dict=True)\n"
     ]
    },
    {
     "name": "stdout",
     "output_type": "stream",
     "text": [
      "✅ Successfully retrieved token!\n",
      "🔑 Access Token: BQDnbPjLd66bN80pxMh5cCmJ8OjKQKPS9e2rGyDwX2IwMnwDiM6ezhDVZw8eM_0aA_C3wTi1q1T1uQa1ZC5i9-NBy87NJZCj6Ngs97nWXujJT9QTA6n_uMjdfp6yZrZpf_DLhBIP12L9EZ6xJDONmqsB_wes6hVfdaUp50KhCzMp6T0R8L1zsE3rlHthU5X3lMFhkECqzdPImUQdA8i1evcYg-bIFZPEmwserx7itZmyCA\n"
     ]
    }
   ],
   "source": [
    "import spotipy\n",
    "from spotipy.oauth2 import SpotifyOAuth\n",
    "\n",
    "# Spotify API Credentials\n",
    "CLIENT_ID = \"37c76da637124a1397a88686bc1b8278\"\n",
    "CLIENT_SECRET = \"37c2f9cd367745a1800216e5e166822f\"\n",
    "REDIRECT_URI = \"http://127.0.0.1:8888/callback\"  \n",
    "SCOPE = \"user-top-read\"\n",
    "\n",
    "# Authenticate User\n",
    "sp_oauth = SpotifyOAuth(client_id=CLIENT_ID, client_secret=CLIENT_SECRET, redirect_uri=REDIRECT_URI, scope=SCOPE)\n",
    "\n",
    "# Attempt to get cached token\n",
    "token_info = sp_oauth.get_cached_token()\n",
    "\n",
    "if token_info:\n",
    "    print(\"✅ Cached Token Found!\")\n",
    "else:\n",
    "    print(\"🔄 No cached token found. Fetching new token...\")\n",
    "    token_info = sp_oauth.get_access_token(as_dict=True)\n",
    "\n",
    "if token_info:\n",
    "    print(\"✅ Successfully retrieved token!\")\n",
    "    print(\"🔑 Access Token:\", token_info[\"access_token\"])\n",
    "else:\n",
    "    print(\"❌ Failed to get an access token. Check error logs.\")\n",
    "\n",
    "\n"
   ]
  },
  {
   "cell_type": "code",
   "execution_count": null,
   "metadata": {},
   "outputs": [
    {
     "name": "stdout",
     "output_type": "stream",
     "text": [
      "\n",
      "Your top artists\n",
      "1. The Weeknd\n",
      "2. Taylor Swift\n",
      "3. Lana Del Rey\n",
      "4. Gracie Abrams\n",
      "5. Ariana Grande\n",
      "6. Sabrina Carpenter\n",
      "7. Kendrick Lamar\n",
      "8. Doja Cat\n",
      "9. Pritam\n",
      "10. Olivia Rodrigo\n",
      "\n",
      "Your Top Genres:\n",
      "pop: 1 times\n"
     ]
    }
   ],
   "source": [
    "if not token_info:\n",
    "    print(\"Fetching new access token...\")\n",
    "    token_info = sp_oauth.get_access_token(token_info['refresh_token'])\n",
    "\n",
    "if token_info:\n",
    "    access_token = token_info[\"access_token\"]\n",
    "    sp = spotipy.Spotify(auth=access_token)\n",
    "\n",
    "    # Fetch user's top artists\n",
    "    top_artists = sp.current_user_top_artists(limit=10)\n",
    "\n",
    "    #print(top_artists)\n",
    "\n",
    "    if \"items\" in top_artists and len(top_artists[\"items\"]) > 0:\n",
    "        # Extract genres from artists\n",
    "        all_genres = []\n",
    "        artist_names = []\n",
    "        for artist in top_artists[\"items\"]:\n",
    "            all_genres.extend(artist[\"genres\"])\n",
    "            artist_names.append(artist[\"name\"])\n",
    "\n",
    "        \n",
    "        genre_counts = Counter(all_genres)\n",
    "        favorite_genres = genre_counts.most_common(1)\n",
    "\n",
    "        print(\"\\nYour top artists\")\n",
    "        for idx, artist in enumerate(artist_names, start=1):\n",
    "            print(f\"{idx}. {artist}\")\n",
    "\n",
    "        print(\"\\nYour Top Genres:\")\n",
    "        for genre, count in favorite_genres:\n",
    "            print(f\"{genre}: {count} times\")\n",
    "    else:\n",
    "        print(\"No top artist data found. Try playing more music on Spotify.\")\n",
    "else:\n",
    "    print(\"Error: Could not retrieve access token.\")\n"
   ]
  }
 ],
 "metadata": {
  "kernelspec": {
   "display_name": "base",
   "language": "python",
   "name": "python3"
  },
  "language_info": {
   "codemirror_mode": {
    "name": "ipython",
    "version": 3
   },
   "file_extension": ".py",
   "mimetype": "text/x-python",
   "name": "python",
   "nbconvert_exporter": "python",
   "pygments_lexer": "ipython3",
   "version": "3.11.7"
  }
 },
 "nbformat": 4,
 "nbformat_minor": 2
}

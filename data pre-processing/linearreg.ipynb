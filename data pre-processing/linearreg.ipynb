{
 "cells": [
  {
   "cell_type": "code",
   "execution_count": 1,
   "id": "aabe2b38",
   "metadata": {},
   "outputs": [],
   "source": [
    "import pandas as pd\n",
    "import numpy as np\n",
    "from sklearn.model_selection import train_test_split\n",
    "from sklearn.neural_network import MLPClassifier\n",
    "from sklearn.preprocessing import StandardScaler\n",
    "from sklearn.metrics import classification_report, confusion_matrix\n",
    "\n",
    "# Load your data\n",
    "df = pd.read_csv('final_airbnb_dataset.csv')"
   ]
  },
  {
   "cell_type": "code",
   "execution_count": 3,
   "id": "768d81bb",
   "metadata": {},
   "outputs": [],
   "source": [
    "df['adjusted_reviews'] = df['number_of_reviews_x'].apply(lambda x: np.log1p(x) if x > 0 else -1)\n",
    "\n",
    "X = df[['distance_score', 'price_score', 'number_of_reviews_x']]\n",
    "y = df['booked']\n",
    "\n",
    "# Step 1: Standardize features (very important for neural networks)\n",
    "scaler = StandardScaler()\n",
    "X_scaled = scaler.fit_transform(X)\n",
    "\n",
    "# Step 2: Train-test split\n",
    "X_train, X_test, y_train, y_test = train_test_split(X_scaled, y, test_size=0.2, random_state=42)\n"
   ]
  },
  {
   "cell_type": "code",
   "execution_count": 4,
   "id": "90756d3d",
   "metadata": {},
   "outputs": [
    {
     "name": "stdout",
     "output_type": "stream",
     "text": [
      "\n",
      "Classification Report:\n",
      "              precision    recall  f1-score   support\n",
      "\n",
      "           0       1.00      1.00      1.00      6774\n",
      "           1       0.99      1.00      0.99       783\n",
      "\n",
      "    accuracy                           1.00      7557\n",
      "   macro avg       0.99      1.00      1.00      7557\n",
      "weighted avg       1.00      1.00      1.00      7557\n",
      "\n",
      "\n",
      "Confusion Matrix:\n",
      "[[6766    8]\n",
      " [   0  783]]\n"
     ]
    }
   ],
   "source": [
    "model = MLPClassifier(hidden_layer_sizes=(16, 8),  # You can try (16,) for just one hidden layer\n",
    "                      activation='relu',           # ReLU is good for non-linear relationships\n",
    "                      solver='adam',               # Adam optimizer works well for most cases\n",
    "                      max_iter=500,\n",
    "                      random_state=42)\n",
    "\n",
    "# Step 4: Train the model\n",
    "model.fit(X_train, y_train)\n",
    "\n",
    "# Step 5: Evaluate the model\n",
    "y_pred = model.predict(X_test)\n",
    "print(\"\\nClassification Report:\")\n",
    "print(classification_report(y_test, y_pred))\n",
    "\n",
    "# (Optional) Confusion Matrix\n",
    "print(\"\\nConfusion Matrix:\")\n",
    "print(confusion_matrix(y_test, y_pred))\n"
   ]
  },
  {
   "cell_type": "code",
   "execution_count": 5,
   "id": "b9df02ba",
   "metadata": {},
   "outputs": [
    {
     "name": "stdout",
     "output_type": "stream",
     "text": [
      "\n",
      "Top 10 Recommended Airbnbs:\n",
      "        distance_score  price_score  number_of_reviews_x  predicted_proba\n",
      "25496        0.864084     0.672372                    0              1.0\n",
      "32039        0.864084     0.600831                   31              1.0\n",
      "807          0.864084     0.497176                   82              1.0\n",
      "6741         0.864084     0.557202                    0              1.0\n",
      "1486         0.864084     0.652348                  375              1.0\n",
      "19802        0.864084     0.664739                    5              1.0\n",
      "23207        0.864084     0.672372                    3              1.0\n",
      "5207         0.864084     0.488312                    0              1.0\n",
      "2154         0.864084     0.488312                    0              1.0\n",
      "17168        0.864084     0.540145                    1              1.0\n"
     ]
    }
   ],
   "source": [
    "df['predicted_proba'] = model.predict_proba(X_scaled)[:, 1]\n",
    "\n",
    "# Sort Airbnbs by probability of being booked\n",
    "top_airbnbs = df.sort_values(by='predicted_proba', ascending=False).head(10)\n",
    "print(\"\\nTop 10 Recommended Airbnbs:\\n\", top_airbnbs[['distance_score', 'price_score', 'number_of_reviews_x', 'predicted_proba']])\n"
   ]
  },
  {
   "cell_type": "code",
   "execution_count": 6,
   "id": "05630a52",
   "metadata": {},
   "outputs": [
    {
     "ename": "ModuleNotFoundError",
     "evalue": "No module named 'seaborn'",
     "output_type": "error",
     "traceback": [
      "\u001b[31m---------------------------------------------------------------------------\u001b[39m",
      "\u001b[31mModuleNotFoundError\u001b[39m                       Traceback (most recent call last)",
      "\u001b[36mCell\u001b[39m\u001b[36m \u001b[39m\u001b[32mIn[6]\u001b[39m\u001b[32m, line 2\u001b[39m\n\u001b[32m      1\u001b[39m \u001b[38;5;28;01mimport\u001b[39;00m\u001b[38;5;250m \u001b[39m\u001b[34;01mmatplotlib\u001b[39;00m\u001b[34;01m.\u001b[39;00m\u001b[34;01mpyplot\u001b[39;00m\u001b[38;5;250m \u001b[39m\u001b[38;5;28;01mas\u001b[39;00m\u001b[38;5;250m \u001b[39m\u001b[34;01mplt\u001b[39;00m\n\u001b[32m----> \u001b[39m\u001b[32m2\u001b[39m \u001b[38;5;28;01mimport\u001b[39;00m\u001b[38;5;250m \u001b[39m\u001b[34;01mseaborn\u001b[39;00m\u001b[38;5;250m \u001b[39m\u001b[38;5;28;01mas\u001b[39;00m\u001b[38;5;250m \u001b[39m\u001b[34;01msns\u001b[39;00m\n\u001b[32m      4\u001b[39m plt.figure(figsize=(\u001b[32m10\u001b[39m, \u001b[32m6\u001b[39m))\n\u001b[32m      5\u001b[39m sns.histplot(data=test_df, x=\u001b[33m'\u001b[39m\u001b[33mpredicted_proba\u001b[39m\u001b[33m'\u001b[39m, hue=\u001b[33m'\u001b[39m\u001b[33mbooked\u001b[39m\u001b[33m'\u001b[39m, bins=\u001b[32m30\u001b[39m, kde=\u001b[38;5;28;01mTrue\u001b[39;00m, palette=\u001b[33m'\u001b[39m\u001b[33mSet1\u001b[39m\u001b[33m'\u001b[39m)\n",
      "\u001b[31mModuleNotFoundError\u001b[39m: No module named 'seaborn'"
     ]
    }
   ],
   "source": [
    "import matplotlib.pyplot as plt\n",
    "import seaborn as sns\n",
    "\n",
    "plt.figure(figsize=(10, 6))\n",
    "sns.histplot(data=test_df, x='predicted_proba', hue='booked', bins=30, kde=True, palette='Set1')\n",
    "plt.title(\"Distribution of Prediction Probabilities by Booking Status\")\n",
    "plt.xlabel(\"Predicted Probability of Being Booked\")\n",
    "plt.ylabel(\"Count\")\n",
    "plt.show()\n"
   ]
  },
  {
   "cell_type": "code",
   "execution_count": null,
   "id": "9074cdf9",
   "metadata": {},
   "outputs": [],
   "source": []
  }
 ],
 "metadata": {
  "kernelspec": {
   "display_name": "venv",
   "language": "python",
   "name": "python3"
  },
  "language_info": {
   "codemirror_mode": {
    "name": "ipython",
    "version": 3
   },
   "file_extension": ".py",
   "mimetype": "text/x-python",
   "name": "python",
   "nbconvert_exporter": "python",
   "pygments_lexer": "ipython3",
   "version": "3.12.6"
  }
 },
 "nbformat": 4,
 "nbformat_minor": 5
}

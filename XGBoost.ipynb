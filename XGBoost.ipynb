{
 "cells": [
  {
   "cell_type": "code",
   "execution_count": 31,
   "id": "2e3dc165",
   "metadata": {},
   "outputs": [],
   "source": [
    "import numpy as np\n",
    "import pandas as pd\n",
    "import xgboost as xgb\n",
    "from sklearn.model_selection import train_test_split\n",
    "from sklearn.metrics import accuracy_score, precision_score, recall_score, f1_score, mean_squared_error\n",
    "import matplotlib.pyplot as plt"
   ]
  },
  {
   "cell_type": "code",
   "execution_count": 32,
   "id": "744bc522",
   "metadata": {},
   "outputs": [
    {
     "data": {
      "text/plain": [
       "['id',\n",
       " 'listing_url',\n",
       " 'scrape_id',\n",
       " 'last_scraped',\n",
       " 'source',\n",
       " 'host_id',\n",
       " 'host_url',\n",
       " 'host_since',\n",
       " 'host_response_time',\n",
       " 'host_response_rate',\n",
       " 'host_acceptance_rate',\n",
       " 'host_is_superhost',\n",
       " 'host_neighbourhood',\n",
       " 'host_listings_count',\n",
       " 'host_total_listings_count',\n",
       " 'host_verifications',\n",
       " 'host_has_profile_pic',\n",
       " 'host_identity_verified',\n",
       " 'neighbourhood_x',\n",
       " 'neighbourhood_cleansed_x',\n",
       " 'neighbourhood_group_cleansed',\n",
       " 'latitude_x',\n",
       " 'longitude_x',\n",
       " 'property_type_x',\n",
       " 'room_type_x',\n",
       " 'accommodates_x',\n",
       " 'bathrooms_x',\n",
       " 'bathrooms_text',\n",
       " 'bedrooms_x',\n",
       " 'beds',\n",
       " 'amenities',\n",
       " 'price',\n",
       " 'minimum_nights',\n",
       " 'maximum_nights',\n",
       " 'minimum_minimum_nights',\n",
       " 'maximum_minimum_nights',\n",
       " 'minimum_maximum_nights',\n",
       " 'maximum_maximum_nights',\n",
       " 'minimum_nights_avg_ntm',\n",
       " 'maximum_nights_avg_ntm',\n",
       " 'has_availability',\n",
       " 'availability_30',\n",
       " 'availability_60',\n",
       " 'availability_90',\n",
       " 'availability_365',\n",
       " 'calendar_last_scraped',\n",
       " 'number_of_reviews',\n",
       " 'number_of_reviews_ltm',\n",
       " 'number_of_reviews_l30d',\n",
       " 'review_scores_rating',\n",
       " 'review_scores_accuracy',\n",
       " 'review_scores_cleanliness',\n",
       " 'review_scores_checkin',\n",
       " 'review_scores_communication',\n",
       " 'review_scores_location',\n",
       " 'review_scores_value',\n",
       " 'instant_bookable',\n",
       " 'calculated_host_listings_count',\n",
       " 'calculated_host_listings_count_entire_homes',\n",
       " 'calculated_host_listings_count_private_rooms',\n",
       " 'calculated_host_listings_count_shared_rooms',\n",
       " 'reviews_per_month',\n",
       " 'bedroom_bathroom_interaction',\n",
       " 'bedroom_bathroom_beds_interaction',\n",
       " 'bed_bath_ratio',\n",
       " 'bed_bedrooms_ratio',\n",
       " 'latitude_y',\n",
       " 'longitude_y',\n",
       " 'neighbourhood_y',\n",
       " 'neighbourhood_cleansed_y',\n",
       " 'property_type_y',\n",
       " 'room_type_y',\n",
       " 'accommodates_y',\n",
       " 'bedrooms_y',\n",
       " 'bathrooms_y',\n",
       " 'cluster_id',\n",
       " 'centroid_latitude',\n",
       " 'centroid_longitude',\n",
       " 'price_score',\n",
       " 'distance_score',\n",
       " 'total_score',\n",
       " 'booked']"
      ]
     },
     "execution_count": 32,
     "metadata": {},
     "output_type": "execute_result"
    }
   ],
   "source": [
    "df = pd.read_csv(\"final_airbnb_dataset_xgboost.csv\")\n",
    "\n",
    "df.columns.tolist()"
   ]
  },
  {
   "cell_type": "code",
   "execution_count": 33,
   "id": "bfec322a",
   "metadata": {},
   "outputs": [],
   "source": [
    "# 1. Load and prepare your data\n",
    "# features = [\n",
    "#     'distance_score', 'price_score', 'number_of_reviews',\n",
    "#     'availability_365', 'review_scores_rating',\n",
    "#     'availability_30', 'availability_365', 'number_of_reviews'\n",
    "# ]\n",
    "features = [\n",
    "    'distance_score', 'price_score', 'number_of_reviews',\n",
    "    'availability_365', 'review_scores_rating',\n",
    "]\n",
    "df_model = df.dropna(subset=features + ['booked'])\n",
    "\n",
    "X = df_model[features]\n",
    "y = df_model['booked'].astype(int)\n",
    "\n",
    "X_train, X_test, y_train, y_test = train_test_split(X, y, test_size=0.2, random_state=42)"
   ]
  },
  {
   "cell_type": "code",
   "execution_count": 36,
   "id": "e64017db",
   "metadata": {},
   "outputs": [
    {
     "name": "stdout",
     "output_type": "stream",
     "text": [
      "[0]\ttrain-logloss:0.42523\teval-logloss:0.42430\n",
      "[100]\ttrain-logloss:0.00212\teval-logloss:0.00278\n"
     ]
    },
    {
     "name": "stderr",
     "output_type": "stream",
     "text": [
      "c:\\Users\\koola\\AppData\\Local\\Programs\\Python\\Python313\\Lib\\site-packages\\xgboost\\core.py:726: FutureWarning: Pass `evals` as keyword args.\n",
      "  warnings.warn(msg, FutureWarning)\n"
     ]
    },
    {
     "name": "stdout",
     "output_type": "stream",
     "text": [
      "[200]\ttrain-logloss:0.00085\teval-logloss:0.00154\n",
      "[300]\ttrain-logloss:0.00063\teval-logloss:0.00140\n",
      "[400]\ttrain-logloss:0.00054\teval-logloss:0.00137\n",
      "[500]\ttrain-logloss:0.00048\teval-logloss:0.00132\n",
      "[600]\ttrain-logloss:0.00045\teval-logloss:0.00129\n",
      "[676]\ttrain-logloss:0.00042\teval-logloss:0.00131\n",
      "Accuracy: 0.9994\n",
      "Precision: 0.9994\n",
      "Recall: 0.9994\n",
      "F1 Score: 0.9994\n"
     ]
    },
    {
     "data": {
      "text/plain": [
       "<Figure size 1000x600 with 0 Axes>"
      ]
     },
     "metadata": {},
     "output_type": "display_data"
    },
    {
     "data": {
      "image/png": "[encoded data removed]",
      "text/plain": [
       "<Figure size 640x480 with 1 Axes>"
      ]
     },
     "metadata": {},
     "output_type": "display_data"
    },
    {
     "name": "stdout",
     "output_type": "stream",
     "text": [
      "\n",
      "🔗 XGBoost: Top 10 Recommended Airbnbs with URLs:\n",
      "\n",
      "ID: 6528060, Score: 1.0000, URL: 27808\n",
      "ID: 753991, Score: 1.0000, URL: 30484\n",
      "ID: 8731224, Score: 1.0000, URL: 34129\n",
      "ID: 2362306, Score: 1.0000, URL: 13000\n",
      "ID: 6494312, Score: 1.0000, URL: 27726\n",
      "ID: 2641540, Score: 1.0000, URL: 13840\n",
      "ID: 8951083, Score: 1.0000, URL: 34751\n",
      "ID: 6837529, Score: 1.0000, URL: 28625\n",
      "ID: 6747685, Score: 1.0000, URL: 28431\n",
      "ID: 2314553, Score: 1.0000, URL: 12867\n"
     ]
    }
   ],
   "source": [
    "# 3. Set up XGBoost parameters\n",
    "# For classification (if your labels are discrete classes)\n",
    "params_clf = {\n",
    "    'objective': 'binary:logistic',  # or 'multi:softmax' for multi-class\n",
    "    'eval_metric': 'logloss',        # or 'mlogloss' for multi-class\n",
    "    'eta': 0.1,                      # learning rate\n",
    "    'max_depth': 6,                  # tree depth\n",
    "    'min_child_weight': 1,\n",
    "    'subsample': 0.8,\n",
    "    'colsample_bytree': 0.8,\n",
    "    'seed': 42\n",
    "}\n",
    "\n",
    "# 4. Choose which parameter set to use based on your problem\n",
    "params = params_clf\n",
    "\n",
    "# 5. Convert data to DMatrix format (XGBoost's optimized data structure)\n",
    "dtrain = xgb.DMatrix(X_train, label=y_train)\n",
    "dtest = xgb.DMatrix(X_test, label=y_test)\n",
    "\n",
    "# 6. Train the model with early stopping\n",
    "num_rounds = 1000\n",
    "evallist = [(dtrain, 'train'), (dtest, 'eval')]\n",
    "model = xgb.train(\n",
    "    params,\n",
    "    dtrain,\n",
    "    num_rounds,\n",
    "    evallist,\n",
    "    early_stopping_rounds=50,\n",
    "    verbose_eval=100\n",
    ")\n",
    "\n",
    "# 7. Make predictions\n",
    "y_pred = model.predict(dtest)\n",
    "\n",
    "# For classification, convert probabilities to classes if needed\n",
    "\n",
    "if params['objective'] == 'binary:logistic':\n",
    "    y_pred_class = [1 if p >= 0.5 else 0 for p in y_pred]\n",
    "else:  # multi-class\n",
    "    y_pred_class = np.argmax(y_pred, axis=1)\n",
    "\n",
    "# 8. Evaluate classification metrics\n",
    "print(f\"Accuracy: {accuracy_score(y_test, y_pred_class):.4f}\")\n",
    "print(f\"Precision: {precision_score(y_test, y_pred_class, average='weighted'):.4f}\")\n",
    "print(f\"Recall: {recall_score(y_test, y_pred_class, average='weighted'):.4f}\")\n",
    "print(f\"F1 Score: {f1_score(y_test, y_pred_class, average='weighted'):.4f}\")\n",
    "\n",
    "\n",
    "# 9. Feature importance analysis\n",
    "plt.figure(figsize=(10, 6))\n",
    "xgb.plot_importance(model, max_num_features=10)\n",
    "plt.title('Top 10 Feature Importance')\n",
    "plt.tight_layout()\n",
    "plt.show()\n",
    "\n",
    "# print out top 10 airbnb listings:\n",
    "top_10_indices = np.argsort(y_pred)[-10:][::-1]\n",
    "top_10_listings = df.iloc[top_10_indices]\n",
    "\n",
    "print(\"\\n🔗 XGBoost: Top 10 Recommended Airbnbs with URLs:\\n\")\n",
    "for _, row in top_10_listings.iterrows():\n",
    "    print(f\"ID: {row['id']}, Score: {y_pred[row.name]:.4f}, URL: {row['listing_url']}\")\n",
    "    # print(f\"ID: {row['id']}, Score:, {row['']}, URL: {row['listing_url']}\")\n",
    "# 10. Save the model\n",
    "model.save_model('recommendation_xgboost_model.json')\n"
   ]
  },
  {
   "cell_type": "code",
   "execution_count": null,
   "id": "67ee3a43",
   "metadata": {},
   "outputs": [],
   "source": []
  }
 ],
 "metadata": {
  "kernelspec": {
   "display_name": "Python 3",
   "language": "python",
   "name": "python3"
  },
  "language_info": {
   "codemirror_mode": {
    "name": "ipython",
    "version": 3
   },
   "file_extension": ".py",
   "mimetype": "text/x-python",
   "name": "python",
   "nbconvert_exporter": "python",
   "pygments_lexer": "ipython3",
   "version": "3.13.3"
  }
 },
 "nbformat": 4,
 "nbformat_minor": 5
}

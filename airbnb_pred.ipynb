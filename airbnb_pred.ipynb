{
 "cells": [
  {
   "cell_type": "code",
   "execution_count": 1,
   "metadata": {},
   "outputs": [],
   "source": [
    "import pandas as pd\n",
    "import matplotlib.pyplot as plt \n",
    "import numpy as np\n"
   ]
  },
  {
   "cell_type": "code",
   "execution_count": 2,
   "metadata": {},
   "outputs": [
    {
     "data": {
      "application/vnd.microsoft.datawrangler.viewer.v0+json": {
       "columns": [
        {
         "name": "index",
         "rawType": "int64",
         "type": "integer"
        },
        {
         "name": "id",
         "rawType": "int64",
         "type": "integer"
        },
        {
         "name": "listing_url",
         "rawType": "object",
         "type": "string"
        },
        {
         "name": "scrape_id",
         "rawType": "int64",
         "type": "integer"
        },
        {
         "name": "last_scraped",
         "rawType": "object",
         "type": "string"
        },
        {
         "name": "source",
         "rawType": "object",
         "type": "string"
        },
        {
         "name": "name",
         "rawType": "object",
         "type": "string"
        },
        {
         "name": "description",
         "rawType": "object",
         "type": "unknown"
        },
        {
         "name": "neighborhood_overview",
         "rawType": "object",
         "type": "unknown"
        },
        {
         "name": "picture_url",
         "rawType": "object",
         "type": "string"
        },
        {
         "name": "host_id",
         "rawType": "int64",
         "type": "integer"
        },
        {
         "name": "host_url",
         "rawType": "object",
         "type": "string"
        },
        {
         "name": "host_name",
         "rawType": "object",
         "type": "string"
        },
        {
         "name": "host_since",
         "rawType": "object",
         "type": "string"
        },
        {
         "name": "host_location",
         "rawType": "object",
         "type": "string"
        },
        {
         "name": "host_about",
         "rawType": "object",
         "type": "string"
        },
        {
         "name": "host_response_time",
         "rawType": "object",
         "type": "unknown"
        },
        {
         "name": "host_response_rate",
         "rawType": "object",
         "type": "unknown"
        },
        {
         "name": "host_acceptance_rate",
         "rawType": "object",
         "type": "unknown"
        },
        {
         "name": "host_is_superhost",
         "rawType": "object",
         "type": "string"
        },
        {
         "name": "host_thumbnail_url",
         "rawType": "object",
         "type": "string"
        },
        {
         "name": "host_picture_url",
         "rawType": "object",
         "type": "string"
        },
        {
         "name": "host_neighbourhood",
         "rawType": "object",
         "type": "string"
        },
        {
         "name": "host_listings_count",
         "rawType": "float64",
         "type": "float"
        },
        {
         "name": "host_total_listings_count",
         "rawType": "float64",
         "type": "float"
        },
        {
         "name": "host_verifications",
         "rawType": "object",
         "type": "string"
        },
        {
         "name": "host_has_profile_pic",
         "rawType": "object",
         "type": "string"
        },
        {
         "name": "host_identity_verified",
         "rawType": "object",
         "type": "string"
        },
        {
         "name": "neighbourhood",
         "rawType": "object",
         "type": "unknown"
        },
        {
         "name": "neighbourhood_cleansed",
         "rawType": "object",
         "type": "string"
        },
        {
         "name": "neighbourhood_group_cleansed",
         "rawType": "object",
         "type": "string"
        },
        {
         "name": "latitude",
         "rawType": "float64",
         "type": "float"
        },
        {
         "name": "longitude",
         "rawType": "float64",
         "type": "float"
        },
        {
         "name": "property_type",
         "rawType": "object",
         "type": "string"
        },
        {
         "name": "room_type",
         "rawType": "object",
         "type": "string"
        },
        {
         "name": "accommodates",
         "rawType": "int64",
         "type": "integer"
        },
        {
         "name": "bathrooms",
         "rawType": "float64",
         "type": "float"
        },
        {
         "name": "bathrooms_text",
         "rawType": "object",
         "type": "unknown"
        },
        {
         "name": "bedrooms",
         "rawType": "float64",
         "type": "float"
        },
        {
         "name": "beds",
         "rawType": "float64",
         "type": "float"
        },
        {
         "name": "amenities",
         "rawType": "object",
         "type": "string"
        },
        {
         "name": "price",
         "rawType": "object",
         "type": "unknown"
        },
        {
         "name": "minimum_nights",
         "rawType": "int64",
         "type": "integer"
        },
        {
         "name": "maximum_nights",
         "rawType": "int64",
         "type": "integer"
        },
        {
         "name": "minimum_minimum_nights",
         "rawType": "float64",
         "type": "float"
        },
        {
         "name": "maximum_minimum_nights",
         "rawType": "float64",
         "type": "float"
        },
        {
         "name": "minimum_maximum_nights",
         "rawType": "float64",
         "type": "float"
        },
        {
         "name": "maximum_maximum_nights",
         "rawType": "float64",
         "type": "float"
        },
        {
         "name": "minimum_nights_avg_ntm",
         "rawType": "float64",
         "type": "float"
        },
        {
         "name": "maximum_nights_avg_ntm",
         "rawType": "float64",
         "type": "float"
        },
        {
         "name": "calendar_updated",
         "rawType": "float64",
         "type": "float"
        },
        {
         "name": "has_availability",
         "rawType": "object",
         "type": "string"
        },
        {
         "name": "availability_30",
         "rawType": "int64",
         "type": "integer"
        },
        {
         "name": "availability_60",
         "rawType": "int64",
         "type": "integer"
        },
        {
         "name": "availability_90",
         "rawType": "int64",
         "type": "integer"
        },
        {
         "name": "availability_365",
         "rawType": "int64",
         "type": "integer"
        },
        {
         "name": "calendar_last_scraped",
         "rawType": "object",
         "type": "string"
        },
        {
         "name": "number_of_reviews",
         "rawType": "int64",
         "type": "integer"
        },
        {
         "name": "number_of_reviews_ltm",
         "rawType": "int64",
         "type": "integer"
        },
        {
         "name": "number_of_reviews_l30d",
         "rawType": "int64",
         "type": "integer"
        },
        {
         "name": "first_review",
         "rawType": "object",
         "type": "string"
        },
        {
         "name": "last_review",
         "rawType": "object",
         "type": "string"
        },
        {
         "name": "review_scores_rating",
         "rawType": "float64",
         "type": "float"
        },
        {
         "name": "review_scores_accuracy",
         "rawType": "float64",
         "type": "float"
        },
        {
         "name": "review_scores_cleanliness",
         "rawType": "float64",
         "type": "float"
        },
        {
         "name": "review_scores_checkin",
         "rawType": "float64",
         "type": "float"
        },
        {
         "name": "review_scores_communication",
         "rawType": "float64",
         "type": "float"
        },
        {
         "name": "review_scores_location",
         "rawType": "float64",
         "type": "float"
        },
        {
         "name": "review_scores_value",
         "rawType": "float64",
         "type": "float"
        },
        {
         "name": "license",
         "rawType": "object",
         "type": "unknown"
        },
        {
         "name": "instant_bookable",
         "rawType": "object",
         "type": "string"
        },
        {
         "name": "calculated_host_listings_count",
         "rawType": "int64",
         "type": "integer"
        },
        {
         "name": "calculated_host_listings_count_entire_homes",
         "rawType": "int64",
         "type": "integer"
        },
        {
         "name": "calculated_host_listings_count_private_rooms",
         "rawType": "int64",
         "type": "integer"
        },
        {
         "name": "calculated_host_listings_count_shared_rooms",
         "rawType": "int64",
         "type": "integer"
        },
        {
         "name": "reviews_per_month",
         "rawType": "float64",
         "type": "float"
        }
       ],
       "conversionMethod": "pd.DataFrame",
       "ref": "3c7b485e-94b3-4478-b913-646d0d0c7151",
       "rows": [
        [
         "0",
         "39572",
         "https://www.airbnb.com/rooms/39572",
         "20250103033441",
         "2025-01-03",
         "city scrape",
         "1 br in a 2 br apt (Midtown West)",
         null,
         null,
         "https://a0.muscache.com/pictures/fd1bffd9-ccf8-4f12-9bdb-5ad8ba757483.jpg",
         "169927",
         "https://www.airbnb.com/users/show/169927",
         "Hubert",
         "2010-07-17",
         "Saint-Aubin-sur-Scie, France",
         "Facebook Likes:\r\nNew York French Geek, David Elliott Music",
         "within a day",
         "100%",
         null,
         "f",
         "https://a0.muscache.com/im/users/169927/profile_pic/1279414691/original.jpg?aki_policy=profile_small",
         "https://a0.muscache.com/im/users/169927/profile_pic/1279414691/original.jpg?aki_policy=profile_x_medium",
         "Hell's Kitchen",
         "2.0",
         "2.0",
         "['email', 'phone']",
         "t",
         "t",
         null,
         "Hell's Kitchen",
         "Manhattan",
         "40.76203",
         "-73.98869",
         "Private room in rental unit",
         "Private room",
         "2",
         null,
         null,
         "1.0",
         "1.0",
         "[\"Hangers\", \"Wifi\", \"Smoke alarm\", \"Carbon monoxide alarm\", \"Shampoo\", \"Washer\", \"Hair dryer\", \"Dryer\", \"Heating\", \"Iron\", \"Essentials\", \"Dishes and silverware\", \"Air conditioning\", \"Kitchen\"]",
         "$139.00",
         "30",
         "1125",
         "30.0",
         "30.0",
         "1125.0",
         "1125.0",
         "30.0",
         "1125.0",
         null,
         "t",
         "30",
         "60",
         "90",
         "365",
         "2025-01-03",
         "44",
         "0",
         "0",
         "2010-08-31",
         "2019-01-03",
         "4.86",
         "4.93",
         "4.83",
         "4.98",
         "5.0",
         "4.98",
         "4.86",
         null,
         "f",
         "2",
         "1",
         "1",
         "0",
         "0.25"
        ],
        [
         "1",
         "39593",
         "https://www.airbnb.com/rooms/39593",
         "20250103033441",
         "2025-01-03",
         "city scrape",
         "A lovely room w/ a Manhattan view",
         "A private, furnished  large room to rent Jan/Feb/25 in an apt unit w/ a city view, near the historic Sunnyside Garden. Subway #7, Q60 & Q32 bus lines in 1.5 blocs; easy transfer to E/F/N/G lines for midtown, downtown & Brooklyn. Availability uncertain from March on (please inquire within). Non-smoking, no-drinking, no-pet woman-to woman share only (shared bathroom).",
         "Nate Silver called this super safe, clean, quiet, airy, lively, and cosmopolitan up and coming neighborhood a \"hidden jewel\" of the city. Sunnyside was ranked third in his \"Most Livable Neighborhoods in New York: a Quantitative Index of the 50 Most Satisfying Places to Live.\"<br /><br />Culturally diverse neighborhood; within walking distances are Sunnyside Historic Garden District, Spanish Thalia Theater known for tango performance, Olymptic size swimming pool at La Guardia Community College & YMCA, tennis court, gyms (i.e., NY Sports Club), organic produce stores, farmer's market around the corner, diverse ethnic restaurants and cafes; you can have a Sunday brunch in the garden patio at \"Quaint\" a la American cuisine on 46th St. and Skillman Ave., Asian Bistro or Ariyoshi for delicious susi, exquisite cup of coffee and quiche at ambience-filled cafes like Firefly, Brookside Market, and what not (Covid-19 restrictions may apply for entrance to these restaurants).<br /><br />Not too fa",
         "https://a0.muscache.com/pictures/0b9110f7-3b24-47aa-88d6-a65e2dc56751.jpg",
         "110506",
         "https://www.airbnb.com/users/show/110506",
         "Myung",
         "2010-04-18",
         "New York, NY",
         "I grew up in South Korea, moved to Montreal, Canada and have been a New Yorker for decades. I presently work as a freelance interpreter and translator for NYS courts, DA's office, and others in need of language services. I am easy-going, friendly, tidy, respectful of others, responsive to guest's needs, and enthusiastic about meeting new people from all walks of life and all over the world!",
         "within a few hours",
         "100%",
         "60%",
         "f",
         "https://a0.muscache.com/im/pictures/user/bba06e10-77e5-4b5a-a6d0-44850fe14d92.jpg?aki_policy=profile_small",
         "https://a0.muscache.com/im/pictures/user/bba06e10-77e5-4b5a-a6d0-44850fe14d92.jpg?aki_policy=profile_x_medium",
         "Sunnyside",
         "1.0",
         "1.0",
         "['email', 'phone']",
         "t",
         "t",
         "Neighborhood highlights",
         "Sunnyside",
         "Queens",
         "40.74523",
         "-73.92318",
         "Private room in condo",
         "Private room",
         "1",
         "1.0",
         "1 private bath",
         "1.0",
         "1.0",
         "[\"Hangers\", \"Smoke alarm\", \"Hair dryer\", \"Clothing storage: closet and dresser\", \"Wine glasses\", \"Freezer\", \"Iron\", \"Bed linens\", \"Dishes and silverware\", \"Central heating\", \"Toaster\", \"Window AC unit\", \"Bathtub\", \"City skyline view\", \"Kitchen\", \"Medium size two-door own fridge refrigerator\", \"Dining table\", \"Elevator\", \"Microwave\", \"Room-darkening shades\", \"Coffee maker: drip coffee maker, french press, Keurig coffee machine, pour-over coffee\", \"GE stove\", \"Portable fans\", \"Host greets you\", \"Hot water kettle\", \"Dedicated workspace\", \"Free street parking\", \"Extra pillows and blankets\", \"Long term stays allowed\", \"Hot water\", \"Essentials\", \"Wifi\", \"Laundromat nearby\", \"Blender\"]",
         "$78.00",
         "31",
         "150",
         "31.0",
         "31.0",
         "150.0",
         "150.0",
         "31.0",
         "150.0",
         null,
         "t",
         "0",
         "0",
         "0",
         "248",
         "2025-01-03",
         "34",
         "1",
         "0",
         "2010-09-14",
         "2024-08-05",
         "4.93",
         "4.89",
         "4.89",
         "4.96",
         "4.96",
         "4.79",
         "4.93",
         null,
         "f",
         "1",
         "0",
         "1",
         "0",
         "0.2"
        ],
        [
         "2",
         "39704",
         "https://www.airbnb.com/rooms/39704",
         "20250103033441",
         "2025-01-03",
         "previous scrape",
         "Private, Large & Sunny 1BR w/W&D",
         "It's a No Brainer:<br />•Terrific Space For Less Money<br />•Save on Meals with a kitchen<br />• Pack less with Washer & Dryer<br />•Live Like A Local!<br />-Satin pillowcases provided upon request.<br />•https://www.airbnb.com/locations/new-york/bedford-stuyvesant",
         "The Neighborhood<br />• Rich History <br />• Beautiful Tree-lined Blocks (esp. my block) <br />• Exquisite Architecture <br />• Inspiring Diversity <br />• Lovely Neighbors <br />• Envy Inducing Vibe<br /><br />I share a list of my local neighborhood favorites after you book!  Please do your own due diligence and research the area and Neighborhood before you book.  Any web search engine is a viable source of information.",
         "https://a0.muscache.com/pictures/0bc4e8a4-c047-48ac-b854-799f283a26a0.jpg",
         "170510",
         "https://www.airbnb.com/users/show/170510",
         "Renée",
         "2010-07-18",
         "New York, United States",
         "I am a self employed licensed real estate broker, investor, and certified income tax preparer.  I own and live in this restored century old brownstone in a vibrant neighborhood in Brooklyn, NY, where I rent 2 of the apartments.\r\n\r\nAll messages are forwarded to my iPhone, so I  can usually respond in minutes.\r\n\r\nCheers,\r\n\r\nRenée",
         null,
         null,
         null,
         "f",
         "https://a0.muscache.com/im/pictures/user/a6f6d1c6-4387-4f1e-b5b9-a050547aa193.jpg?aki_policy=profile_small",
         "https://a0.muscache.com/im/pictures/user/a6f6d1c6-4387-4f1e-b5b9-a050547aa193.jpg?aki_policy=profile_x_medium",
         "Bedford-Stuyvesant",
         "2.0",
         "4.0",
         "['email', 'phone', 'work_email']",
         "t",
         "t",
         "Neighborhood highlights",
         "Bedford-Stuyvesant",
         "Brooklyn",
         "40.68216",
         "-73.94594",
         "Entire townhouse",
         "Entire home/apt",
         "4",
         null,
         "1 bath",
         "1.0",
         null,
         "[\"Hangers\", \"Coffee maker\", \"Smoke alarm\", \"Fire extinguisher\", \"TV with standard cable\", \"Hair dryer\", \"Cooking basics\", \"Stove\", \"Iron\", \"Lockbox\", \"Dishes and silverware\", \"Shampoo\", \"First aid kit\", \"Washer\", \"Air conditioning\", \"Kitchen\", \"Self check-in\", \"Luggage dropoff allowed\", \"Carbon monoxide alarm\", \"Oven\", \"Microwave\", \"Dryer\", \"Free street parking\", \"Refrigerator\", \"Long term stays allowed\", \"Heating\", \"Hot water\", \"Essentials\", \"Wifi\"]",
         null,
         "30",
         "30",
         "30.0",
         "30.0",
         "30.0",
         "30.0",
         "30.0",
         "30.0",
         null,
         "t",
         "0",
         "0",
         "0",
         "0",
         "2025-01-03",
         "337",
         "0",
         "0",
         "2010-08-23",
         "2019-12-12",
         "4.71",
         "4.86",
         "4.82",
         "4.89",
         "4.92",
         "4.38",
         "4.72",
         null,
         "f",
         "2",
         "2",
         "0",
         "0",
         "1.93"
        ],
        [
         "3",
         "42300",
         "https://www.airbnb.com/rooms/42300",
         "20250103033441",
         "2025-01-03",
         "city scrape",
         "Beautiful Lower East Side Loft",
         "Architect-owned loft is a corner unit in a beautiful prewar building looking onto Sara Roosevelt Park and downtown with tons of light through out the day and sunset views over downtown.  Its design won Best of the Year award and has been published in Interior Design Magazine, amongst many others.  Easy access to the subway and great bars  & restaurants. The unit is a 5th floor walk-up (no elevators)<br />It's the apartment we live in and do not rent often. We DO NOT offer discounts or special pricing.",
         "The apartment is in the border of Soho, LES and Chinatown, three of the most lively and unique neighborhoods of NYC",
         "https://a0.muscache.com/pictures/0e285e13-ee14-4c03-851b-d961f14a9405.jpg",
         "184755",
         "https://www.airbnb.com/users/show/184755",
         "Koray",
         "2010-07-29",
         "New York, NY",
         "I am an architect living in NYC and have my own design firm Buro Koray Duman Architects. I live in LES with my husband and our daughter.",
         "within a day",
         "100%",
         "100%",
         "f",
         "https://a0.muscache.com/im/users/184755/profile_pic/1280422003/original.jpg?aki_policy=profile_small",
         "https://a0.muscache.com/im/users/184755/profile_pic/1280422003/original.jpg?aki_policy=profile_x_medium",
         "Lower East Side",
         "1.0",
         "1.0",
         "['email', 'phone', 'work_email']",
         "t",
         "t",
         "Neighborhood highlights",
         "Lower East Side",
         "Manhattan",
         "40.71992",
         "-73.99167",
         "Entire loft",
         "Entire home/apt",
         "5",
         "2.0",
         "2 baths",
         "3.0",
         "4.0",
         "[\"Hangers\", \"Coffee maker\", \"Smoke alarm\", \"Hair dryer\", \"Iron\", \"Bed linens\", \"Central air conditioning\", \"Dishes and silverware\", \"TV\", \"Shampoo\", \"City skyline view\", \"Kitchen\", \"Clothing storage\", \"Carbon monoxide alarm\", \"Pets allowed\", \"Microwave\", \"Dryer\", \"Garden view\", \"Host greets you\", \"Dedicated workspace\", \"Extra pillows and blankets\", \"Refrigerator\", \"Heating\", \"Hot water\", \"Washer \\u2013\\u00a0In unit\", \"Essentials\", \"Wifi\"]",
         "$750.00",
         "30",
         "240",
         "30.0",
         "30.0",
         "240.0",
         "240.0",
         "30.0",
         "240.0",
         null,
         "t",
         "0",
         "0",
         "0",
         "87",
         "2025-01-03",
         "70",
         "1",
         "0",
         "2010-08-08",
         "2024-08-31",
         "4.8",
         "4.72",
         "4.69",
         "4.85",
         "4.87",
         "4.57",
         "4.62",
         null,
         "f",
         "1",
         "1",
         "0",
         "0",
         "0.4"
        ],
        [
         "4",
         "42729",
         "https://www.airbnb.com/rooms/42729",
         "20250103033441",
         "2025-01-03",
         "city scrape",
         "@HouseOnHenrySt - Private 2nd bedroom w/shared use",
         null,
         "Lovely old Brooklyn neighborhood, with brick/brownstone townhouses from the 19th Century and beautiful tree lined blocks.",
         "https://a0.muscache.com/pictures/925fe213-f5e1-4179-8abc-c1a0e9eac540.jpg",
         "11481",
         "https://www.airbnb.com/users/show/11481",
         "Annette",
         "2009-03-26",
         "New York, NY",
         "I have been a host with Airbnb since its introduction into the NYC market, early 2009.  Since then I've made a commitment to share my home/sanctuary/city with a non-pretentious open approach.  Above all my spaces are clean, comfortable and convenient.  With an eclectic mix of vintage and modern, little touches of nature and infused with curated pieces from around the world -  they are reflection of my interests, travels and passions.  So if you're planning a trip to Brooklyn and want to be hosted by a Native-New Yorker who has made it her business to provide a place that will make you feel like you are home away from home, shoot me an e-mail.   \n\nI look forward to sharing House on Henry, Casa Barcelona and Henry's Local Cafe with you!",
         "within a day",
         "67%",
         "33%",
         "f",
         "https://a0.muscache.com/im/users/11481/profile_pic/1302556344/original.jpg?aki_policy=profile_small",
         "https://a0.muscache.com/im/users/11481/profile_pic/1302556344/original.jpg?aki_policy=profile_x_medium",
         "Carroll Gardens",
         "6.0",
         "12.0",
         "['email', 'phone']",
         "t",
         "t",
         "Neighborhood highlights",
         "Carroll Gardens",
         "Brooklyn",
         "40.67813",
         "-74.00062",
         "Private room in townhouse",
         "Private room",
         "2",
         "1.0",
         "1 private bath",
         "1.0",
         "1.0",
         "[\"Hangers\", \"Coffee maker\", \"Smoke alarm\", \"TV with standard cable\", \"Hair dryer\", \"Cooking basics\", \"Iron\", \"Lockbox\", \"Frigidaire refrigerator\", \"Dishes and silverware\", \"Lock on bedroom door\", \"Exterior security cameras on property\", \"Air conditioning\", \"Kitchen\", \"Self check-in\", \"Luggage dropoff allowed\", \"Carbon monoxide alarm\", \"Stainless steel gas stove\", \"Noise decibel monitors on property\", \"Long term stays allowed\", \"Heating\", \"Hot water\", \"Wifi\"]",
         "$185.00",
         "30",
         "60",
         "30.0",
         "30.0",
         "60.0",
         "60.0",
         "30.0",
         "60.0",
         null,
         "t",
         "29",
         "59",
         "89",
         "364",
         "2025-01-03",
         "220",
         "0",
         "0",
         "2010-09-13",
         "2023-11-02",
         "4.66",
         "4.78",
         "4.81",
         "4.71",
         "4.73",
         "4.58",
         "4.64",
         null,
         "f",
         "4",
         "1",
         "3",
         "0",
         "1.26"
        ]
       ],
       "shape": {
        "columns": 75,
        "rows": 5
       }
      },
      "text/html": [
       "<div>\n",
       "<style scoped>\n",
       "    .dataframe tbody tr th:only-of-type {\n",
       "        vertical-align: middle;\n",
       "    }\n",
       "\n",
       "    .dataframe tbody tr th {\n",
       "        vertical-align: top;\n",
       "    }\n",
       "\n",
       "    .dataframe thead th {\n",
       "        text-align: right;\n",
       "    }\n",
       "</style>\n",
       "<table border=\"1\" class=\"dataframe\">\n",
       "  <thead>\n",
       "    <tr style=\"text-align: right;\">\n",
       "      <th></th>\n",
       "      <th>id</th>\n",
       "      <th>listing_url</th>\n",
       "      <th>scrape_id</th>\n",
       "      <th>last_scraped</th>\n",
       "      <th>source</th>\n",
       "      <th>name</th>\n",
       "      <th>description</th>\n",
       "      <th>neighborhood_overview</th>\n",
       "      <th>picture_url</th>\n",
       "      <th>host_id</th>\n",
       "      <th>...</th>\n",
       "      <th>review_scores_communication</th>\n",
       "      <th>review_scores_location</th>\n",
       "      <th>review_scores_value</th>\n",
       "      <th>license</th>\n",
       "      <th>instant_bookable</th>\n",
       "      <th>calculated_host_listings_count</th>\n",
       "      <th>calculated_host_listings_count_entire_homes</th>\n",
       "      <th>calculated_host_listings_count_private_rooms</th>\n",
       "      <th>calculated_host_listings_count_shared_rooms</th>\n",
       "      <th>reviews_per_month</th>\n",
       "    </tr>\n",
       "  </thead>\n",
       "  <tbody>\n",
       "    <tr>\n",
       "      <th>0</th>\n",
       "      <td>39572</td>\n",
       "      <td>https://www.airbnb.com/rooms/39572</td>\n",
       "      <td>20250103033441</td>\n",
       "      <td>2025-01-03</td>\n",
       "      <td>city scrape</td>\n",
       "      <td>1 br in a 2 br apt (Midtown West)</td>\n",
       "      <td>NaN</td>\n",
       "      <td>NaN</td>\n",
       "      <td>https://a0.muscache.com/pictures/fd1bffd9-ccf8...</td>\n",
       "      <td>169927</td>\n",
       "      <td>...</td>\n",
       "      <td>5.00</td>\n",
       "      <td>4.98</td>\n",
       "      <td>4.86</td>\n",
       "      <td>NaN</td>\n",
       "      <td>f</td>\n",
       "      <td>2</td>\n",
       "      <td>1</td>\n",
       "      <td>1</td>\n",
       "      <td>0</td>\n",
       "      <td>0.25</td>\n",
       "    </tr>\n",
       "    <tr>\n",
       "      <th>1</th>\n",
       "      <td>39593</td>\n",
       "      <td>https://www.airbnb.com/rooms/39593</td>\n",
       "      <td>20250103033441</td>\n",
       "      <td>2025-01-03</td>\n",
       "      <td>city scrape</td>\n",
       "      <td>A lovely room w/ a Manhattan view</td>\n",
       "      <td>A private, furnished  large room to rent Jan/F...</td>\n",
       "      <td>Nate Silver called this super safe, clean, qui...</td>\n",
       "      <td>https://a0.muscache.com/pictures/0b9110f7-3b24...</td>\n",
       "      <td>110506</td>\n",
       "      <td>...</td>\n",
       "      <td>4.96</td>\n",
       "      <td>4.79</td>\n",
       "      <td>4.93</td>\n",
       "      <td>NaN</td>\n",
       "      <td>f</td>\n",
       "      <td>1</td>\n",
       "      <td>0</td>\n",
       "      <td>1</td>\n",
       "      <td>0</td>\n",
       "      <td>0.20</td>\n",
       "    </tr>\n",
       "    <tr>\n",
       "      <th>2</th>\n",
       "      <td>39704</td>\n",
       "      <td>https://www.airbnb.com/rooms/39704</td>\n",
       "      <td>20250103033441</td>\n",
       "      <td>2025-01-03</td>\n",
       "      <td>previous scrape</td>\n",
       "      <td>Private, Large &amp; Sunny 1BR w/W&amp;D</td>\n",
       "      <td>It's a No Brainer:&lt;br /&gt;•Terrific Space For Le...</td>\n",
       "      <td>The Neighborhood&lt;br /&gt;• Rich History &lt;br /&gt;• B...</td>\n",
       "      <td>https://a0.muscache.com/pictures/0bc4e8a4-c047...</td>\n",
       "      <td>170510</td>\n",
       "      <td>...</td>\n",
       "      <td>4.92</td>\n",
       "      <td>4.38</td>\n",
       "      <td>4.72</td>\n",
       "      <td>NaN</td>\n",
       "      <td>f</td>\n",
       "      <td>2</td>\n",
       "      <td>2</td>\n",
       "      <td>0</td>\n",
       "      <td>0</td>\n",
       "      <td>1.93</td>\n",
       "    </tr>\n",
       "    <tr>\n",
       "      <th>3</th>\n",
       "      <td>42300</td>\n",
       "      <td>https://www.airbnb.com/rooms/42300</td>\n",
       "      <td>20250103033441</td>\n",
       "      <td>2025-01-03</td>\n",
       "      <td>city scrape</td>\n",
       "      <td>Beautiful Lower East Side Loft</td>\n",
       "      <td>Architect-owned loft is a corner unit in a bea...</td>\n",
       "      <td>The apartment is in the border of Soho, LES an...</td>\n",
       "      <td>https://a0.muscache.com/pictures/0e285e13-ee14...</td>\n",
       "      <td>184755</td>\n",
       "      <td>...</td>\n",
       "      <td>4.87</td>\n",
       "      <td>4.57</td>\n",
       "      <td>4.62</td>\n",
       "      <td>NaN</td>\n",
       "      <td>f</td>\n",
       "      <td>1</td>\n",
       "      <td>1</td>\n",
       "      <td>0</td>\n",
       "      <td>0</td>\n",
       "      <td>0.40</td>\n",
       "    </tr>\n",
       "    <tr>\n",
       "      <th>4</th>\n",
       "      <td>42729</td>\n",
       "      <td>https://www.airbnb.com/rooms/42729</td>\n",
       "      <td>20250103033441</td>\n",
       "      <td>2025-01-03</td>\n",
       "      <td>city scrape</td>\n",
       "      <td>@HouseOnHenrySt - Private 2nd bedroom w/shared...</td>\n",
       "      <td>NaN</td>\n",
       "      <td>Lovely old Brooklyn neighborhood, with brick/b...</td>\n",
       "      <td>https://a0.muscache.com/pictures/925fe213-f5e1...</td>\n",
       "      <td>11481</td>\n",
       "      <td>...</td>\n",
       "      <td>4.73</td>\n",
       "      <td>4.58</td>\n",
       "      <td>4.64</td>\n",
       "      <td>NaN</td>\n",
       "      <td>f</td>\n",
       "      <td>4</td>\n",
       "      <td>1</td>\n",
       "      <td>3</td>\n",
       "      <td>0</td>\n",
       "      <td>1.26</td>\n",
       "    </tr>\n",
       "  </tbody>\n",
       "</table>\n",
       "<p>5 rows × 75 columns</p>\n",
       "</div>"
      ],
      "text/plain": [
       "      id                         listing_url       scrape_id last_scraped  \\\n",
       "0  39572  https://www.airbnb.com/rooms/39572  20250103033441   2025-01-03   \n",
       "1  39593  https://www.airbnb.com/rooms/39593  20250103033441   2025-01-03   \n",
       "2  39704  https://www.airbnb.com/rooms/39704  20250103033441   2025-01-03   \n",
       "3  42300  https://www.airbnb.com/rooms/42300  20250103033441   2025-01-03   \n",
       "4  42729  https://www.airbnb.com/rooms/42729  20250103033441   2025-01-03   \n",
       "\n",
       "            source                                               name  \\\n",
       "0      city scrape                  1 br in a 2 br apt (Midtown West)   \n",
       "1      city scrape                  A lovely room w/ a Manhattan view   \n",
       "2  previous scrape                   Private, Large & Sunny 1BR w/W&D   \n",
       "3      city scrape                     Beautiful Lower East Side Loft   \n",
       "4      city scrape  @HouseOnHenrySt - Private 2nd bedroom w/shared...   \n",
       "\n",
       "                                         description  \\\n",
       "0                                                NaN   \n",
       "1  A private, furnished  large room to rent Jan/F...   \n",
       "2  It's a No Brainer:<br />•Terrific Space For Le...   \n",
       "3  Architect-owned loft is a corner unit in a bea...   \n",
       "4                                                NaN   \n",
       "\n",
       "                               neighborhood_overview  \\\n",
       "0                                                NaN   \n",
       "1  Nate Silver called this super safe, clean, qui...   \n",
       "2  The Neighborhood<br />• Rich History <br />• B...   \n",
       "3  The apartment is in the border of Soho, LES an...   \n",
       "4  Lovely old Brooklyn neighborhood, with brick/b...   \n",
       "\n",
       "                                         picture_url  host_id  ...  \\\n",
       "0  https://a0.muscache.com/pictures/fd1bffd9-ccf8...   169927  ...   \n",
       "1  https://a0.muscache.com/pictures/0b9110f7-3b24...   110506  ...   \n",
       "2  https://a0.muscache.com/pictures/0bc4e8a4-c047...   170510  ...   \n",
       "3  https://a0.muscache.com/pictures/0e285e13-ee14...   184755  ...   \n",
       "4  https://a0.muscache.com/pictures/925fe213-f5e1...    11481  ...   \n",
       "\n",
       "  review_scores_communication review_scores_location review_scores_value  \\\n",
       "0                        5.00                   4.98                4.86   \n",
       "1                        4.96                   4.79                4.93   \n",
       "2                        4.92                   4.38                4.72   \n",
       "3                        4.87                   4.57                4.62   \n",
       "4                        4.73                   4.58                4.64   \n",
       "\n",
       "  license instant_bookable calculated_host_listings_count  \\\n",
       "0     NaN                f                              2   \n",
       "1     NaN                f                              1   \n",
       "2     NaN                f                              2   \n",
       "3     NaN                f                              1   \n",
       "4     NaN                f                              4   \n",
       "\n",
       "  calculated_host_listings_count_entire_homes  \\\n",
       "0                                           1   \n",
       "1                                           0   \n",
       "2                                           2   \n",
       "3                                           1   \n",
       "4                                           1   \n",
       "\n",
       "  calculated_host_listings_count_private_rooms  \\\n",
       "0                                            1   \n",
       "1                                            1   \n",
       "2                                            0   \n",
       "3                                            0   \n",
       "4                                            3   \n",
       "\n",
       "  calculated_host_listings_count_shared_rooms reviews_per_month  \n",
       "0                                           0              0.25  \n",
       "1                                           0              0.20  \n",
       "2                                           0              1.93  \n",
       "3                                           0              0.40  \n",
       "4                                           0              1.26  \n",
       "\n",
       "[5 rows x 75 columns]"
      ]
     },
     "execution_count": 2,
     "metadata": {},
     "output_type": "execute_result"
    }
   ],
   "source": [
    "df = pd.read_csv(\"listings.csv\")\n",
    "\n",
    "df.head()"
   ]
  },
  {
   "cell_type": "code",
   "execution_count": 3,
   "metadata": {},
   "outputs": [
    {
     "data": {
      "text/plain": [
       "Index(['id', 'listing_url', 'scrape_id', 'last_scraped', 'source', 'name',\n",
       "       'description', 'neighborhood_overview', 'picture_url', 'host_id',\n",
       "       'host_url', 'host_name', 'host_since', 'host_location', 'host_about',\n",
       "       'host_response_time', 'host_response_rate', 'host_acceptance_rate',\n",
       "       'host_is_superhost', 'host_thumbnail_url', 'host_picture_url',\n",
       "       'host_neighbourhood', 'host_listings_count',\n",
       "       'host_total_listings_count', 'host_verifications',\n",
       "       'host_has_profile_pic', 'host_identity_verified', 'neighbourhood',\n",
       "       'neighbourhood_cleansed', 'neighbourhood_group_cleansed', 'latitude',\n",
       "       'longitude', 'property_type', 'room_type', 'accommodates', 'bathrooms',\n",
       "       'bathrooms_text', 'bedrooms', 'beds', 'amenities', 'price',\n",
       "       'minimum_nights', 'maximum_nights', 'minimum_minimum_nights',\n",
       "       'maximum_minimum_nights', 'minimum_maximum_nights',\n",
       "       'maximum_maximum_nights', 'minimum_nights_avg_ntm',\n",
       "       'maximum_nights_avg_ntm', 'calendar_updated', 'has_availability',\n",
       "       'availability_30', 'availability_60', 'availability_90',\n",
       "       'availability_365', 'calendar_last_scraped', 'number_of_reviews',\n",
       "       'number_of_reviews_ltm', 'number_of_reviews_l30d', 'first_review',\n",
       "       'last_review', 'review_scores_rating', 'review_scores_accuracy',\n",
       "       'review_scores_cleanliness', 'review_scores_checkin',\n",
       "       'review_scores_communication', 'review_scores_location',\n",
       "       'review_scores_value', 'license', 'instant_bookable',\n",
       "       'calculated_host_listings_count',\n",
       "       'calculated_host_listings_count_entire_homes',\n",
       "       'calculated_host_listings_count_private_rooms',\n",
       "       'calculated_host_listings_count_shared_rooms', 'reviews_per_month'],\n",
       "      dtype='object')"
      ]
     },
     "execution_count": 3,
     "metadata": {},
     "output_type": "execute_result"
    }
   ],
   "source": [
    "df.columns"
   ]
  },
  {
   "cell_type": "code",
   "execution_count": 4,
   "metadata": {},
   "outputs": [
    {
     "name": "stdout",
     "output_type": "stream",
     "text": [
      "id                                                int64\n",
      "listing_url                                      object\n",
      "scrape_id                                         int64\n",
      "last_scraped                                     object\n",
      "source                                           object\n",
      "                                                 ...   \n",
      "calculated_host_listings_count                    int64\n",
      "calculated_host_listings_count_entire_homes       int64\n",
      "calculated_host_listings_count_private_rooms      int64\n",
      "calculated_host_listings_count_shared_rooms       int64\n",
      "reviews_per_month                               float64\n",
      "Length: 75, dtype: object\n"
     ]
    }
   ],
   "source": [
    "pd.set_option('display.max_columns', None)\n",
    "\n",
    "print(df.dtypes)"
   ]
  },
  {
   "cell_type": "code",
   "execution_count": 5,
   "metadata": {},
   "outputs": [
    {
     "name": "stdout",
     "output_type": "stream",
     "text": [
      "name                               2\n",
      "description                      973\n",
      "neighborhood_overview          17177\n",
      "picture_url                        1\n",
      "host_name                          6\n",
      "host_since                         6\n",
      "host_location                   8042\n",
      "host_about                     16172\n",
      "host_response_time             15585\n",
      "host_response_rate             15585\n",
      "host_acceptance_rate           14872\n",
      "host_is_superhost                421\n",
      "host_thumbnail_url                 6\n",
      "host_picture_url                   6\n",
      "host_neighbourhood              7579\n",
      "host_listings_count                6\n",
      "host_total_listings_count          6\n",
      "host_verifications                 6\n",
      "host_has_profile_pic               6\n",
      "host_identity_verified             6\n",
      "neighbourhood                  17176\n",
      "bathrooms                      14799\n",
      "bathrooms_text                    32\n",
      "bedrooms                        5809\n",
      "beds                           14934\n",
      "price                          14815\n",
      "minimum_minimum_nights             2\n",
      "maximum_minimum_nights             2\n",
      "minimum_maximum_nights             2\n",
      "maximum_maximum_nights             2\n",
      "minimum_nights_avg_ntm             2\n",
      "maximum_nights_avg_ntm             2\n",
      "calendar_updated               37784\n",
      "has_availability                5284\n",
      "first_review                   11892\n",
      "last_review                    11892\n",
      "review_scores_rating           11892\n",
      "review_scores_accuracy         11904\n",
      "review_scores_cleanliness      11894\n",
      "review_scores_checkin          11908\n",
      "review_scores_communication    11899\n",
      "review_scores_location         11911\n",
      "review_scores_value            11910\n",
      "license                        32398\n",
      "reviews_per_month              11892\n",
      "dtype: int64\n"
     ]
    }
   ],
   "source": [
    "missing_values = df.isnull().sum()\n",
    "print(missing_values[missing_values >0])"
   ]
  },
  {
   "cell_type": "code",
   "execution_count": 6,
   "metadata": {},
   "outputs": [
    {
     "name": "stdout",
     "output_type": "stream",
     "text": [
      "<class 'pandas.core.frame.DataFrame'>\n",
      "RangeIndex: 37784 entries, 0 to 37783\n",
      "Data columns (total 63 columns):\n",
      " #   Column                                        Non-Null Count  Dtype  \n",
      "---  ------                                        --------------  -----  \n",
      " 0   id                                            37784 non-null  int64  \n",
      " 1   listing_url                                   37784 non-null  object \n",
      " 2   scrape_id                                     37784 non-null  int64  \n",
      " 3   last_scraped                                  37784 non-null  int64  \n",
      " 4   source                                        37784 non-null  int64  \n",
      " 5   name                                          37782 non-null  object \n",
      " 6   host_id                                       37784 non-null  int64  \n",
      " 7   host_url                                      37784 non-null  int64  \n",
      " 8   host_since                                    37784 non-null  int64  \n",
      " 9   host_response_time                            37784 non-null  int64  \n",
      " 10  host_response_rate                            37784 non-null  int64  \n",
      " 11  host_acceptance_rate                          37784 non-null  int64  \n",
      " 12  host_is_superhost                             37784 non-null  int64  \n",
      " 13  host_neighbourhood                            37784 non-null  int64  \n",
      " 14  host_listings_count                           37784 non-null  int64  \n",
      " 15  host_total_listings_count                     37778 non-null  float64\n",
      " 16  host_verifications                            37784 non-null  int64  \n",
      " 17  host_has_profile_pic                          37784 non-null  int64  \n",
      " 18  host_identity_verified                        37784 non-null  int64  \n",
      " 19  neighbourhood                                 37784 non-null  int64  \n",
      " 20  neighbourhood_cleansed                        37784 non-null  int64  \n",
      " 21  neighbourhood_group_cleansed                  37784 non-null  int64  \n",
      " 22  latitude                                      37784 non-null  float64\n",
      " 23  longitude                                     37784 non-null  float64\n",
      " 24  property_type                                 37784 non-null  int64  \n",
      " 25  room_type                                     37784 non-null  int64  \n",
      " 26  accommodates                                  37784 non-null  int64  \n",
      " 27  bathrooms                                     37784 non-null  float64\n",
      " 28  bathrooms_text                                37784 non-null  int64  \n",
      " 29  bedrooms                                      37784 non-null  float64\n",
      " 30  beds                                          37784 non-null  float64\n",
      " 31  amenities                                     37784 non-null  int64  \n",
      " 32  price                                         22969 non-null  object \n",
      " 33  minimum_nights                                37784 non-null  int64  \n",
      " 34  maximum_nights                                37784 non-null  int64  \n",
      " 35  minimum_minimum_nights                        37782 non-null  float64\n",
      " 36  maximum_minimum_nights                        37782 non-null  float64\n",
      " 37  minimum_maximum_nights                        37782 non-null  float64\n",
      " 38  maximum_maximum_nights                        37782 non-null  float64\n",
      " 39  minimum_nights_avg_ntm                        37782 non-null  float64\n",
      " 40  maximum_nights_avg_ntm                        37782 non-null  float64\n",
      " 41  has_availability                              37784 non-null  int64  \n",
      " 42  availability_30                               37784 non-null  int64  \n",
      " 43  availability_60                               37784 non-null  int64  \n",
      " 44  availability_90                               37784 non-null  int64  \n",
      " 45  availability_365                              37784 non-null  int64  \n",
      " 46  calendar_last_scraped                         37784 non-null  int64  \n",
      " 47  number_of_reviews                             37784 non-null  int64  \n",
      " 48  number_of_reviews_ltm                         37784 non-null  int64  \n",
      " 49  number_of_reviews_l30d                        37784 non-null  int64  \n",
      " 50  review_scores_rating                          25892 non-null  float64\n",
      " 51  review_scores_accuracy                        25880 non-null  float64\n",
      " 52  review_scores_cleanliness                     25890 non-null  float64\n",
      " 53  review_scores_checkin                         25876 non-null  float64\n",
      " 54  review_scores_communication                   25885 non-null  float64\n",
      " 55  review_scores_location                        25873 non-null  float64\n",
      " 56  review_scores_value                           25874 non-null  float64\n",
      " 57  instant_bookable                              37784 non-null  int64  \n",
      " 58  calculated_host_listings_count                37784 non-null  int64  \n",
      " 59  calculated_host_listings_count_entire_homes   37784 non-null  int64  \n",
      " 60  calculated_host_listings_count_private_rooms  37784 non-null  int64  \n",
      " 61  calculated_host_listings_count_shared_rooms   37784 non-null  int64  \n",
      " 62  reviews_per_month                             37784 non-null  float64\n",
      "dtypes: float64(20), int64(40), object(3)\n",
      "memory usage: 18.2+ MB\n",
      "None\n"
     ]
    },
    {
     "name": "stderr",
     "output_type": "stream",
     "text": [
      "/var/folders/xl/xw8pbk6s4kdf7yy18q7vzd1m0000gn/T/ipykernel_68597/2597203953.py:8: FutureWarning: A value is trying to be set on a copy of a DataFrame or Series through chained assignment using an inplace method.\n",
      "The behavior will change in pandas 3.0. This inplace method will never work because the intermediate object on which we are setting values always behaves as a copy.\n",
      "\n",
      "For example, when doing 'df[col].method(value, inplace=True)', try using 'df.method({col: value}, inplace=True)' or df[col] = df[col].method(value) instead, to perform the operation inplace on the original object.\n",
      "\n",
      "\n",
      "  df[col].fillna(df[col].median(), inplace=True)\n"
     ]
    }
   ],
   "source": [
    "import pandas as pd\n",
    "from sklearn.impute import SimpleImputer\n",
    "from sklearn.preprocessing import LabelEncoder\n",
    "\n",
    "# Fill numerical columns with median\n",
    "numerical_col = ['bathrooms', 'bedrooms', 'beds', 'reviews_per_month']\n",
    "for col in numerical_col:\n",
    "    df[col].fillna(df[col].median(), inplace=True)\n",
    "\n",
    "# Fill categorical columns with the most frequent value\n",
    "categorical_col = ['neighbourhood', 'host_listings_count']\n",
    "cat_imputer = SimpleImputer(strategy='most_frequent')\n",
    "df[categorical_col] = cat_imputer.fit_transform(df[categorical_col])\n",
    "\n",
    "# Replace other non-important categorical columns with 'Unknown'\n",
    "other_col = ['host_name', 'host_location', 'host_about', 'host_response_time', 'host_is_superhost']\n",
    "for col in other_col:\n",
    "    df[col] = df[col].fillna('Unknown')\n",
    "\n",
    "# Drop unnecessary columns that are text-heavy\n",
    "drop_col = ['description', 'neighborhood_overview', 'picture_url',\n",
    "            'host_thumbnail_url', 'host_picture_url', 'calendar_updated',\n",
    "            'first_review', 'last_review', 'license',\n",
    "            'host_name', 'host_location', 'host_about']\n",
    "df.drop(columns=drop_col, inplace=True)\n",
    "\n",
    "# Label Encoding for high-cardinality categorical columns\n",
    "exclude_cols = ['price', 'listing_url', 'name']\n",
    "cat_cols_remaining = [col for col in df.select_dtypes(include='object').columns if col not in exclude_cols]\n",
    "#cat_cols_remaining.remove('price')  # Don't touch price column\n",
    "\n",
    "le = LabelEncoder()\n",
    "for col in cat_cols_remaining:\n",
    "    df[col] = le.fit_transform(df[col])\n",
    "\n",
    "# Now, check memory usage and dataframe info\n",
    "print(df.info())\n"
   ]
  },
  {
   "cell_type": "code",
   "execution_count": 7,
   "metadata": {},
   "outputs": [
    {
     "name": "stdout",
     "output_type": "stream",
     "text": [
      "id                                                int64\n",
      "listing_url                                      object\n",
      "scrape_id                                         int64\n",
      "last_scraped                                      int64\n",
      "source                                            int64\n",
      "                                                 ...   \n",
      "calculated_host_listings_count                    int64\n",
      "calculated_host_listings_count_entire_homes       int64\n",
      "calculated_host_listings_count_private_rooms      int64\n",
      "calculated_host_listings_count_shared_rooms       int64\n",
      "reviews_per_month                               float64\n",
      "Length: 63, dtype: object\n"
     ]
    }
   ],
   "source": [
    "print(df.dtypes)"
   ]
  },
  {
   "cell_type": "code",
   "execution_count": 8,
   "metadata": {},
   "outputs": [
    {
     "name": "stdout",
     "output_type": "stream",
     "text": [
      "0    139.0\n",
      "1     78.0\n",
      "2      NaN\n",
      "3    750.0\n",
      "4    185.0\n",
      "Name: price, dtype: float64\n"
     ]
    }
   ],
   "source": [
    "# Clean the 'price' column to remove dollar signs and commas, then convert to float\n",
    "df['price'] = df['price'].replace({'\\$': '', ',': ''}, regex=True).astype(float)\n",
    "\n",
    "# Verify the transformation\n",
    "print(df['price'].head())"
   ]
  },
  {
   "cell_type": "code",
   "execution_count": 9,
   "metadata": {},
   "outputs": [],
   "source": [
    "import xgboost as xgb\n",
    "from sklearn.metrics import mean_absolute_error\n",
    "from sklearn.model_selection import train_test_split\n",
    "\n",
    "df['neighbourhood']=le.fit_transform(df['neighbourhood'])\n",
    "\n",
    "df['bedroom_bathroom_interaction'] = df['bedrooms'] * df['bathrooms']\n",
    "df['bedroom_bathroom_beds_interaction'] = df['bedrooms'] * df['bathrooms'] * df['beds']\n",
    "df['bed_bath_ratio'] = df['bedrooms'] / (df['bathrooms'] + 1)  # Adding 1 to avoid division by 0\n",
    "df['bed_bedrooms_ratio'] = df['beds'] / (df['bedrooms'] + 1)  # Adding 1 to avoid division by 0\n",
    "\n",
    "# Select the features you want to include for training (including interaction terms)\n",
    "features = ['bathrooms', 'bedrooms', 'beds', 'reviews_per_month', 'host_listings_count', \n",
    "            'bedroom_bathroom_interaction', 'bedroom_bathroom_beds_interaction', \n",
    "            'bed_bath_ratio', 'bed_bedrooms_ratio', 'neighbourhood']\n",
    "\n",
    "target='price'"
   ]
  },
  {
   "cell_type": "code",
   "execution_count": 10,
   "metadata": {},
   "outputs": [
    {
     "name": "stdout",
     "output_type": "stream",
     "text": [
      "bathrooms                            0\n",
      "bedrooms                             0\n",
      "beds                                 0\n",
      "reviews_per_month                    0\n",
      "host_listings_count                  0\n",
      "bedroom_bathroom_interaction         0\n",
      "bedroom_bathroom_beds_interaction    0\n",
      "bed_bath_ratio                       0\n",
      "bed_bedrooms_ratio                   0\n",
      "neighbourhood                        0\n",
      "dtype: int64\n",
      "bathrooms                            float64\n",
      "bedrooms                             float64\n",
      "beds                                 float64\n",
      "reviews_per_month                    float64\n",
      "host_listings_count                    int64\n",
      "bedroom_bathroom_interaction         float64\n",
      "bedroom_bathroom_beds_interaction    float64\n",
      "bed_bath_ratio                       float64\n",
      "bed_bedrooms_ratio                   float64\n",
      "neighbourhood                          int64\n",
      "dtype: object\n"
     ]
    }
   ],
   "source": [
    "X=df[features]\n",
    "y=df[target]\n",
    "\n",
    "print(X.isnull().sum())\n",
    "print(X.dtypes)"
   ]
  },
  {
   "cell_type": "code",
   "execution_count": 11,
   "metadata": {},
   "outputs": [
    {
     "name": "stdout",
     "output_type": "stream",
     "text": [
      "bathrooms                            0\n",
      "bedrooms                             0\n",
      "beds                                 0\n",
      "reviews_per_month                    0\n",
      "host_listings_count                  0\n",
      "bedroom_bathroom_interaction         0\n",
      "bedroom_bathroom_beds_interaction    0\n",
      "bed_bath_ratio                       0\n",
      "bed_bedrooms_ratio                   0\n",
      "neighbourhood                        0\n",
      "dtype: int64\n",
      "bathrooms                            0\n",
      "bedrooms                             0\n",
      "beds                                 0\n",
      "reviews_per_month                    0\n",
      "host_listings_count                  0\n",
      "bedroom_bathroom_interaction         0\n",
      "bedroom_bathroom_beds_interaction    0\n",
      "bed_bath_ratio                       0\n",
      "bed_bedrooms_ratio                   0\n",
      "neighbourhood                        0\n",
      "dtype: int64\n",
      "bathrooms                            float64\n",
      "bedrooms                             float64\n",
      "beds                                 float64\n",
      "reviews_per_month                    float64\n",
      "host_listings_count                    int64\n",
      "bedroom_bathroom_interaction         float64\n",
      "bedroom_bathroom_beds_interaction    float64\n",
      "bed_bath_ratio                       float64\n",
      "bed_bedrooms_ratio                   float64\n",
      "neighbourhood                          int64\n",
      "dtype: object\n"
     ]
    }
   ],
   "source": [
    "X_train, X_val, y_train, y_val = train_test_split(X, y, test_size=0.2, random_state=42)\n",
    "\n",
    "print(X_train.isnull().sum())\n",
    "print(X_val.isnull().sum())\n",
    "print(X_train.dtypes)"
   ]
  },
  {
   "cell_type": "code",
   "execution_count": 12,
   "metadata": {},
   "outputs": [],
   "source": [
    "X_train = X_train.astype(float)\n",
    "X_val = X_val.astype(float)\n",
    "y_train = y_train.astype(float)\n",
    "y_val = y_val.astype(float)"
   ]
  },
  {
   "cell_type": "code",
   "execution_count": 13,
   "metadata": {},
   "outputs": [
    {
     "name": "stdout",
     "output_type": "stream",
     "text": [
      "(30227,)\n"
     ]
    }
   ],
   "source": [
    "print(y_train.shape)"
   ]
  },
  {
   "cell_type": "code",
   "execution_count": 14,
   "metadata": {},
   "outputs": [],
   "source": [
    "# Convert X_train and X_val to NumPy arrays\n",
    "X_train_np = X_train.to_numpy()\n",
    "X_val_np = X_val.to_numpy()\n",
    "y_train = y_train.to_numpy()\n",
    "y_val = y_val.to_numpy()\n",
    "\n"
   ]
  },
  {
   "cell_type": "code",
   "execution_count": 15,
   "metadata": {},
   "outputs": [
    {
     "name": "stdout",
     "output_type": "stream",
     "text": [
      "(30227, 10)\n",
      "(7557, 10)\n"
     ]
    }
   ],
   "source": [
    "print(X_train_np.shape)  # Should be (30227, n_features)\n",
    "print(X_val_np.shape)  "
   ]
  },
  {
   "cell_type": "code",
   "execution_count": 16,
   "metadata": {},
   "outputs": [
    {
     "name": "stdout",
     "output_type": "stream",
     "text": [
      "11845\n",
      "2970\n"
     ]
    }
   ],
   "source": [
    "import numpy as np\n",
    "\n",
    "# Check for NaN values in the target variable\n",
    "print(np.isnan(y_train).sum())\n",
    "print(np.isnan(y_val).sum())\n"
   ]
  },
  {
   "cell_type": "code",
   "execution_count": 17,
   "metadata": {},
   "outputs": [],
   "source": [
    "# Replace NaN values in target with the mean of the respective array\n",
    "mean_y_train = np.nanmean(y_train)\n",
    "mean_y_val = np.nanmean(y_val)\n",
    "\n",
    "y_train = np.nan_to_num(y_train, nan=mean_y_train)\n",
    "y_val = np.nan_to_num(y_val, nan=mean_y_val)"
   ]
  },
  {
   "cell_type": "code",
   "execution_count": 18,
   "metadata": {},
   "outputs": [
    {
     "name": "stdout",
     "output_type": "stream",
     "text": [
      "DMatrix for training: 30227 rows, 10 columns.\n",
      "DMatrix for validation: 7557 rows, 10 columns.\n"
     ]
    }
   ],
   "source": [
    "dtrain = xgb.DMatrix(X_train_np, label=y_train)\n",
    "dval = xgb.DMatrix(X_val_np, label=y_val)\n",
    "\n",
    "# Check if the DMatrix is created successfully\n",
    "print(f\"DMatrix for training: {dtrain.num_row()} rows, {dtrain.num_col()} columns.\")\n",
    "print(f\"DMatrix for validation: {dval.num_row()} rows, {dval.num_col()} columns.\")"
   ]
  },
  {
   "cell_type": "code",
   "execution_count": 19,
   "metadata": {},
   "outputs": [
    {
     "name": "stdout",
     "output_type": "stream",
     "text": [
      "Mean Absolute Error: 68.00847099557942\n"
     ]
    }
   ],
   "source": [
    "import xgboost as xgb\n",
    "from sklearn.metrics import mean_absolute_error\n",
    "\n",
    "# Initialize parameters\n",
    "params = {\n",
    "    'n_estimators': 1000, \n",
    "    'learning_rate': 0.05, \n",
    "    'max_depth': 6, \n",
    "    'random_state': 42,\n",
    "    'eval_metric': 'mae'  # Explicitly setting eval_metric in the params\n",
    "}\n",
    "\n",
    "# Initialize the model with params\n",
    "model = xgb.XGBRegressor(**params)\n",
    "\n",
    "# Train the model with eval_set\n",
    "model.fit(X_train, y_train, \n",
    "          eval_set=[(X_val, y_val)], \n",
    "          verbose=False)\n",
    "\n",
    "# Predict on the validation set\n",
    "y_pred = model.predict(X_val)\n",
    "\n",
    "# Evaluate performance (Mean Absolute Error)\n",
    "error = mean_absolute_error(y_val, y_pred)\n",
    "print(f'Mean Absolute Error: {error}')\n",
    "\n",
    "\n"
   ]
  },
  {
   "cell_type": "code",
   "execution_count": 20,
   "metadata": {},
   "outputs": [],
   "source": [
    "X_missing = df[df['price'].isna()][X_train.columns]\n",
    "\n",
    "#X_missing_np = X_missing.to_numpy()\n",
    "predicted_prices = model.predict(X_missing)\n",
    "\n",
    "df_new = df\n",
    "\n",
    "df_new.loc[df_new['price'].isna(), 'price']=predicted_prices"
   ]
  },
  {
   "cell_type": "code",
   "execution_count": 21,
   "metadata": {},
   "outputs": [
    {
     "name": "stdout",
     "output_type": "stream",
     "text": [
      "0\n"
     ]
    }
   ],
   "source": [
    "print(df['price'].isna().sum())  # Should be 0\n"
   ]
  },
  {
   "cell_type": "code",
   "execution_count": 22,
   "metadata": {},
   "outputs": [
    {
     "name": "stdout",
     "output_type": "stream",
     "text": [
      "file saved!\n"
     ]
    }
   ],
   "source": [
    "df_new.to_csv('cleaned_data_nprices.csv', index=False)\n",
    "print(\"file saved!\")"
   ]
  },
  {
   "cell_type": "code",
   "execution_count": null,
   "metadata": {},
   "outputs": [],
   "source": []
  }
 ],
 "metadata": {
  "kernelspec": {
   "display_name": "base",
   "language": "python",
   "name": "python3"
  },
  "language_info": {
   "codemirror_mode": {
    "name": "ipython",
    "version": 3
   },
   "file_extension": ".py",
   "mimetype": "text/x-python",
   "name": "python",
   "nbconvert_exporter": "python",
   "pygments_lexer": "ipython3",
   "version": "3.11.7"
  }
 },
 "nbformat": 4,
 "nbformat_minor": 2
}
